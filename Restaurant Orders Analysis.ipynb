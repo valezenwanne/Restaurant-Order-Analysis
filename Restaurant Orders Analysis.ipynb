{
 "cells": [
  {
   "cell_type": "markdown",
   "id": "dd486b0c",
   "metadata": {},
   "source": [
    "# Restaurant Order Analysis"
   ]
  },
  {
   "cell_type": "markdown",
   "id": "2bd0b544",
   "metadata": {},
   "source": [
    "## Project Objective\n",
    "- The Objective of the project is to analyze a quarter worth of orders from a fictitious restaurant serving international cuisine.\n",
    "\n",
    "### Recommended Analysis"
   ]
  },
  {
   "cell_type": "markdown",
   "id": "8a59e3b4",
   "metadata": {},
   "source": [
    "### Import the Libraries"
   ]
  },
  {
   "cell_type": "code",
   "execution_count": 1,
   "id": "f94d56ac",
   "metadata": {},
   "outputs": [],
   "source": [
    "#import the libraries\n",
    "import pandas as pd\n",
    "import numpy as np\n",
    "import seaborn as sns\n",
    "import matplotlib.pyplot as plt\n",
    "%matplotlib inline\n",
    "pd.set_option('display.max_columns', None)"
   ]
  },
  {
   "cell_type": "code",
   "execution_count": 2,
   "id": "871c95f6",
   "metadata": {},
   "outputs": [],
   "source": [
    "#import the data\n",
    "orders = pd.read_csv('order_details.csv')\n",
    "menu = pd.read_csv('menu_items.csv')"
   ]
  },
  {
   "cell_type": "code",
   "execution_count": 3,
   "id": "0a279497",
   "metadata": {},
   "outputs": [
    {
     "data": {
      "text/html": [
       "<div>\n",
       "<style scoped>\n",
       "    .dataframe tbody tr th:only-of-type {\n",
       "        vertical-align: middle;\n",
       "    }\n",
       "\n",
       "    .dataframe tbody tr th {\n",
       "        vertical-align: top;\n",
       "    }\n",
       "\n",
       "    .dataframe thead th {\n",
       "        text-align: right;\n",
       "    }\n",
       "</style>\n",
       "<table border=\"1\" class=\"dataframe\">\n",
       "  <thead>\n",
       "    <tr style=\"text-align: right;\">\n",
       "      <th></th>\n",
       "      <th>order_details_id</th>\n",
       "      <th>order_id</th>\n",
       "      <th>order_date</th>\n",
       "      <th>order_time</th>\n",
       "      <th>item_id</th>\n",
       "    </tr>\n",
       "  </thead>\n",
       "  <tbody>\n",
       "    <tr>\n",
       "      <th>0</th>\n",
       "      <td>1</td>\n",
       "      <td>1</td>\n",
       "      <td>1/1/23</td>\n",
       "      <td>11:38:36 AM</td>\n",
       "      <td>109.0</td>\n",
       "    </tr>\n",
       "    <tr>\n",
       "      <th>1</th>\n",
       "      <td>2</td>\n",
       "      <td>2</td>\n",
       "      <td>1/1/23</td>\n",
       "      <td>11:57:40 AM</td>\n",
       "      <td>108.0</td>\n",
       "    </tr>\n",
       "    <tr>\n",
       "      <th>2</th>\n",
       "      <td>3</td>\n",
       "      <td>2</td>\n",
       "      <td>1/1/23</td>\n",
       "      <td>11:57:40 AM</td>\n",
       "      <td>124.0</td>\n",
       "    </tr>\n",
       "    <tr>\n",
       "      <th>3</th>\n",
       "      <td>4</td>\n",
       "      <td>2</td>\n",
       "      <td>1/1/23</td>\n",
       "      <td>11:57:40 AM</td>\n",
       "      <td>117.0</td>\n",
       "    </tr>\n",
       "    <tr>\n",
       "      <th>4</th>\n",
       "      <td>5</td>\n",
       "      <td>2</td>\n",
       "      <td>1/1/23</td>\n",
       "      <td>11:57:40 AM</td>\n",
       "      <td>129.0</td>\n",
       "    </tr>\n",
       "  </tbody>\n",
       "</table>\n",
       "</div>"
      ],
      "text/plain": [
       "   order_details_id  order_id order_date   order_time  item_id\n",
       "0                 1         1     1/1/23  11:38:36 AM    109.0\n",
       "1                 2         2     1/1/23  11:57:40 AM    108.0\n",
       "2                 3         2     1/1/23  11:57:40 AM    124.0\n",
       "3                 4         2     1/1/23  11:57:40 AM    117.0\n",
       "4                 5         2     1/1/23  11:57:40 AM    129.0"
      ]
     },
     "execution_count": 3,
     "metadata": {},
     "output_type": "execute_result"
    }
   ],
   "source": [
    "#display first few rows of the orders table\n",
    "orders.head()"
   ]
  },
  {
   "cell_type": "code",
   "execution_count": 4,
   "id": "9370080a",
   "metadata": {},
   "outputs": [
    {
     "data": {
      "text/html": [
       "<div>\n",
       "<style scoped>\n",
       "    .dataframe tbody tr th:only-of-type {\n",
       "        vertical-align: middle;\n",
       "    }\n",
       "\n",
       "    .dataframe tbody tr th {\n",
       "        vertical-align: top;\n",
       "    }\n",
       "\n",
       "    .dataframe thead th {\n",
       "        text-align: right;\n",
       "    }\n",
       "</style>\n",
       "<table border=\"1\" class=\"dataframe\">\n",
       "  <thead>\n",
       "    <tr style=\"text-align: right;\">\n",
       "      <th></th>\n",
       "      <th>menu_item_id</th>\n",
       "      <th>item_name</th>\n",
       "      <th>category</th>\n",
       "      <th>price</th>\n",
       "    </tr>\n",
       "  </thead>\n",
       "  <tbody>\n",
       "    <tr>\n",
       "      <th>0</th>\n",
       "      <td>101</td>\n",
       "      <td>Hamburger</td>\n",
       "      <td>American</td>\n",
       "      <td>12.95</td>\n",
       "    </tr>\n",
       "    <tr>\n",
       "      <th>1</th>\n",
       "      <td>102</td>\n",
       "      <td>Cheeseburger</td>\n",
       "      <td>American</td>\n",
       "      <td>13.95</td>\n",
       "    </tr>\n",
       "    <tr>\n",
       "      <th>2</th>\n",
       "      <td>103</td>\n",
       "      <td>Hot Dog</td>\n",
       "      <td>American</td>\n",
       "      <td>9.00</td>\n",
       "    </tr>\n",
       "    <tr>\n",
       "      <th>3</th>\n",
       "      <td>104</td>\n",
       "      <td>Veggie Burger</td>\n",
       "      <td>American</td>\n",
       "      <td>10.50</td>\n",
       "    </tr>\n",
       "    <tr>\n",
       "      <th>4</th>\n",
       "      <td>105</td>\n",
       "      <td>Mac &amp; Cheese</td>\n",
       "      <td>American</td>\n",
       "      <td>7.00</td>\n",
       "    </tr>\n",
       "  </tbody>\n",
       "</table>\n",
       "</div>"
      ],
      "text/plain": [
       "   menu_item_id      item_name  category  price\n",
       "0           101      Hamburger  American  12.95\n",
       "1           102   Cheeseburger  American  13.95\n",
       "2           103        Hot Dog  American   9.00\n",
       "3           104  Veggie Burger  American  10.50\n",
       "4           105   Mac & Cheese  American   7.00"
      ]
     },
     "execution_count": 4,
     "metadata": {},
     "output_type": "execute_result"
    }
   ],
   "source": [
    "#display the first few rows of the menu table\n",
    "menu.head()"
   ]
  },
  {
   "cell_type": "markdown",
   "id": "f3e7ad57",
   "metadata": {},
   "source": [
    "### Data Wrangling (Orders Table)"
   ]
  },
  {
   "cell_type": "code",
   "execution_count": 5,
   "id": "47a3610e",
   "metadata": {},
   "outputs": [
    {
     "data": {
      "text/plain": [
       "(12234, 5)"
      ]
     },
     "execution_count": 5,
     "metadata": {},
     "output_type": "execute_result"
    }
   ],
   "source": [
    "#understanding the shape \n",
    "orders.shape"
   ]
  },
  {
   "cell_type": "markdown",
   "id": "d6f29c06",
   "metadata": {},
   "source": [
    "- orders contain about 12,234 orders made by customers"
   ]
  },
  {
   "cell_type": "code",
   "execution_count": 6,
   "id": "7e95d004",
   "metadata": {},
   "outputs": [
    {
     "data": {
      "text/plain": [
       "order_details_id      0\n",
       "order_id              0\n",
       "order_date            0\n",
       "order_time            0\n",
       "item_id             137\n",
       "dtype: int64"
      ]
     },
     "execution_count": 6,
     "metadata": {},
     "output_type": "execute_result"
    }
   ],
   "source": [
    "#Checking for missing values\n",
    "orders.isna().sum()"
   ]
  },
  {
   "cell_type": "markdown",
   "id": "672c5c17",
   "metadata": {},
   "source": [
    "- There are 137 orders item_id missing"
   ]
  },
  {
   "cell_type": "code",
   "execution_count": 7,
   "id": "b41b72b1",
   "metadata": {},
   "outputs": [
    {
     "data": {
      "text/html": [
       "<div>\n",
       "<style scoped>\n",
       "    .dataframe tbody tr th:only-of-type {\n",
       "        vertical-align: middle;\n",
       "    }\n",
       "\n",
       "    .dataframe tbody tr th {\n",
       "        vertical-align: top;\n",
       "    }\n",
       "\n",
       "    .dataframe thead th {\n",
       "        text-align: right;\n",
       "    }\n",
       "</style>\n",
       "<table border=\"1\" class=\"dataframe\">\n",
       "  <thead>\n",
       "    <tr style=\"text-align: right;\">\n",
       "      <th></th>\n",
       "      <th>order_details_id</th>\n",
       "      <th>order_id</th>\n",
       "      <th>order_date</th>\n",
       "      <th>order_time</th>\n",
       "      <th>item_id</th>\n",
       "    </tr>\n",
       "  </thead>\n",
       "  <tbody>\n",
       "    <tr>\n",
       "      <th>121</th>\n",
       "      <td>122</td>\n",
       "      <td>50</td>\n",
       "      <td>1/1/23</td>\n",
       "      <td>6:41:01 PM</td>\n",
       "      <td>NaN</td>\n",
       "    </tr>\n",
       "    <tr>\n",
       "      <th>297</th>\n",
       "      <td>298</td>\n",
       "      <td>125</td>\n",
       "      <td>1/2/23</td>\n",
       "      <td>8:31:06 PM</td>\n",
       "      <td>NaN</td>\n",
       "    </tr>\n",
       "    <tr>\n",
       "      <th>357</th>\n",
       "      <td>358</td>\n",
       "      <td>147</td>\n",
       "      <td>1/3/23</td>\n",
       "      <td>2:32:51 PM</td>\n",
       "      <td>NaN</td>\n",
       "    </tr>\n",
       "    <tr>\n",
       "      <th>386</th>\n",
       "      <td>387</td>\n",
       "      <td>161</td>\n",
       "      <td>1/3/23</td>\n",
       "      <td>4:43:46 PM</td>\n",
       "      <td>NaN</td>\n",
       "    </tr>\n",
       "    <tr>\n",
       "      <th>469</th>\n",
       "      <td>470</td>\n",
       "      <td>200</td>\n",
       "      <td>1/3/23</td>\n",
       "      <td>10:24:05 PM</td>\n",
       "      <td>NaN</td>\n",
       "    </tr>\n",
       "    <tr>\n",
       "      <th>...</th>\n",
       "      <td>...</td>\n",
       "      <td>...</td>\n",
       "      <td>...</td>\n",
       "      <td>...</td>\n",
       "      <td>...</td>\n",
       "    </tr>\n",
       "    <tr>\n",
       "      <th>11716</th>\n",
       "      <td>11717</td>\n",
       "      <td>5149</td>\n",
       "      <td>3/28/23</td>\n",
       "      <td>2:48:50 PM</td>\n",
       "      <td>NaN</td>\n",
       "    </tr>\n",
       "    <tr>\n",
       "      <th>11903</th>\n",
       "      <td>11904</td>\n",
       "      <td>5225</td>\n",
       "      <td>3/29/23</td>\n",
       "      <td>5:40:52 PM</td>\n",
       "      <td>NaN</td>\n",
       "    </tr>\n",
       "    <tr>\n",
       "      <th>11906</th>\n",
       "      <td>11907</td>\n",
       "      <td>5226</td>\n",
       "      <td>3/29/23</td>\n",
       "      <td>5:43:56 PM</td>\n",
       "      <td>NaN</td>\n",
       "    </tr>\n",
       "    <tr>\n",
       "      <th>12021</th>\n",
       "      <td>12022</td>\n",
       "      <td>5281</td>\n",
       "      <td>3/30/23</td>\n",
       "      <td>4:56:04 PM</td>\n",
       "      <td>NaN</td>\n",
       "    </tr>\n",
       "    <tr>\n",
       "      <th>12063</th>\n",
       "      <td>12064</td>\n",
       "      <td>5303</td>\n",
       "      <td>3/30/23</td>\n",
       "      <td>9:15:27 PM</td>\n",
       "      <td>NaN</td>\n",
       "    </tr>\n",
       "  </tbody>\n",
       "</table>\n",
       "<p>137 rows × 5 columns</p>\n",
       "</div>"
      ],
      "text/plain": [
       "       order_details_id  order_id order_date   order_time  item_id\n",
       "121                 122        50     1/1/23   6:41:01 PM      NaN\n",
       "297                 298       125     1/2/23   8:31:06 PM      NaN\n",
       "357                 358       147     1/3/23   2:32:51 PM      NaN\n",
       "386                 387       161     1/3/23   4:43:46 PM      NaN\n",
       "469                 470       200     1/3/23  10:24:05 PM      NaN\n",
       "...                 ...       ...        ...          ...      ...\n",
       "11716             11717      5149    3/28/23   2:48:50 PM      NaN\n",
       "11903             11904      5225    3/29/23   5:40:52 PM      NaN\n",
       "11906             11907      5226    3/29/23   5:43:56 PM      NaN\n",
       "12021             12022      5281    3/30/23   4:56:04 PM      NaN\n",
       "12063             12064      5303    3/30/23   9:15:27 PM      NaN\n",
       "\n",
       "[137 rows x 5 columns]"
      ]
     },
     "execution_count": 7,
     "metadata": {},
     "output_type": "execute_result"
    }
   ],
   "source": [
    "#display the missing items\n",
    "orders[orders['item_id'].isna()]"
   ]
  },
  {
   "cell_type": "markdown",
   "id": "5f91df85",
   "metadata": {},
   "source": [
    "- Since the missing values constitute just about 1% of the data, we will drop the missing values\n",
    "- Secondly, these missing item_id has made it impossible to know the menu item and categeory of the orders, so we will drop them"
   ]
  },
  {
   "cell_type": "code",
   "execution_count": 8,
   "id": "ccc6e0a0",
   "metadata": {},
   "outputs": [
    {
     "data": {
      "text/plain": [
       "0"
      ]
     },
     "execution_count": 8,
     "metadata": {},
     "output_type": "execute_result"
    }
   ],
   "source": [
    "#checking for duplicates\n",
    "orders.duplicated().sum()"
   ]
  },
  {
   "cell_type": "markdown",
   "id": "77139032",
   "metadata": {},
   "source": [
    "- There are no duplicates in the orders table"
   ]
  },
  {
   "cell_type": "code",
   "execution_count": 9,
   "id": "63213a8f",
   "metadata": {},
   "outputs": [
    {
     "data": {
      "text/plain": [
       "order_details_id      int64\n",
       "order_id              int64\n",
       "order_date           object\n",
       "order_time           object\n",
       "item_id             float64\n",
       "dtype: object"
      ]
     },
     "execution_count": 9,
     "metadata": {},
     "output_type": "execute_result"
    }
   ],
   "source": [
    "#checking the datatypes\n",
    "orders.dtypes"
   ]
  },
  {
   "cell_type": "markdown",
   "id": "532c8d27",
   "metadata": {},
   "source": [
    "- The order_date is an object datatype instead of datetime\n",
    "- The order_time is an object datatype instead of time"
   ]
  },
  {
   "cell_type": "markdown",
   "id": "e53fbb45",
   "metadata": {},
   "source": [
    "### Data Cleaning (Orders table)"
   ]
  },
  {
   "cell_type": "markdown",
   "id": "3e727c17",
   "metadata": {},
   "source": [
    "#### Make a Copy"
   ]
  },
  {
   "cell_type": "code",
   "execution_count": 10,
   "id": "a3d6798c",
   "metadata": {},
   "outputs": [],
   "source": [
    "#make a copy of the orders table\n",
    "orders_copy = orders.copy()"
   ]
  },
  {
   "cell_type": "markdown",
   "id": "929a132c",
   "metadata": {},
   "source": [
    "#### Dropping the missing values"
   ]
  },
  {
   "cell_type": "code",
   "execution_count": 11,
   "id": "9d1675bf",
   "metadata": {},
   "outputs": [],
   "source": [
    "#drop the missing values\n",
    "orders_copy.dropna(inplace=True)"
   ]
  },
  {
   "cell_type": "code",
   "execution_count": 12,
   "id": "cea57211",
   "metadata": {},
   "outputs": [
    {
     "data": {
      "text/plain": [
       "order_details_id    0\n",
       "order_id            0\n",
       "order_date          0\n",
       "order_time          0\n",
       "item_id             0\n",
       "dtype: int64"
      ]
     },
     "execution_count": 12,
     "metadata": {},
     "output_type": "execute_result"
    }
   ],
   "source": [
    "#confirming the missing values have been dropped\n",
    "orders_copy.isna().sum()"
   ]
  },
  {
   "cell_type": "markdown",
   "id": "cf28ba21",
   "metadata": {},
   "source": [
    "#### Changing Datatype"
   ]
  },
  {
   "cell_type": "code",
   "execution_count": 13,
   "id": "bfa6634d",
   "metadata": {},
   "outputs": [],
   "source": [
    "#changing the datatype of order_date\n",
    "orders_copy['order_date'] = orders_copy['order_date'].astype('datetime64')"
   ]
  },
  {
   "cell_type": "code",
   "execution_count": 14,
   "id": "2d959895",
   "metadata": {},
   "outputs": [
    {
     "data": {
      "text/plain": [
       "order_details_id             int64\n",
       "order_id                     int64\n",
       "order_date          datetime64[ns]\n",
       "order_time                  object\n",
       "item_id                    float64\n",
       "dtype: object"
      ]
     },
     "execution_count": 14,
     "metadata": {},
     "output_type": "execute_result"
    }
   ],
   "source": [
    "#confirm the datatype of order_date\n",
    "orders_copy.dtypes"
   ]
  },
  {
   "cell_type": "code",
   "execution_count": 15,
   "id": "cec151a1",
   "metadata": {},
   "outputs": [
    {
     "data": {
      "text/html": [
       "<div>\n",
       "<style scoped>\n",
       "    .dataframe tbody tr th:only-of-type {\n",
       "        vertical-align: middle;\n",
       "    }\n",
       "\n",
       "    .dataframe tbody tr th {\n",
       "        vertical-align: top;\n",
       "    }\n",
       "\n",
       "    .dataframe thead th {\n",
       "        text-align: right;\n",
       "    }\n",
       "</style>\n",
       "<table border=\"1\" class=\"dataframe\">\n",
       "  <thead>\n",
       "    <tr style=\"text-align: right;\">\n",
       "      <th></th>\n",
       "      <th>order_details_id</th>\n",
       "      <th>order_id</th>\n",
       "      <th>order_date</th>\n",
       "      <th>order_time</th>\n",
       "      <th>item_id</th>\n",
       "    </tr>\n",
       "  </thead>\n",
       "  <tbody>\n",
       "    <tr>\n",
       "      <th>0</th>\n",
       "      <td>1</td>\n",
       "      <td>1</td>\n",
       "      <td>2023-01-01</td>\n",
       "      <td>11:38:36 AM</td>\n",
       "      <td>109.0</td>\n",
       "    </tr>\n",
       "    <tr>\n",
       "      <th>1</th>\n",
       "      <td>2</td>\n",
       "      <td>2</td>\n",
       "      <td>2023-01-01</td>\n",
       "      <td>11:57:40 AM</td>\n",
       "      <td>108.0</td>\n",
       "    </tr>\n",
       "    <tr>\n",
       "      <th>2</th>\n",
       "      <td>3</td>\n",
       "      <td>2</td>\n",
       "      <td>2023-01-01</td>\n",
       "      <td>11:57:40 AM</td>\n",
       "      <td>124.0</td>\n",
       "    </tr>\n",
       "    <tr>\n",
       "      <th>3</th>\n",
       "      <td>4</td>\n",
       "      <td>2</td>\n",
       "      <td>2023-01-01</td>\n",
       "      <td>11:57:40 AM</td>\n",
       "      <td>117.0</td>\n",
       "    </tr>\n",
       "    <tr>\n",
       "      <th>4</th>\n",
       "      <td>5</td>\n",
       "      <td>2</td>\n",
       "      <td>2023-01-01</td>\n",
       "      <td>11:57:40 AM</td>\n",
       "      <td>129.0</td>\n",
       "    </tr>\n",
       "  </tbody>\n",
       "</table>\n",
       "</div>"
      ],
      "text/plain": [
       "   order_details_id  order_id order_date   order_time  item_id\n",
       "0                 1         1 2023-01-01  11:38:36 AM    109.0\n",
       "1                 2         2 2023-01-01  11:57:40 AM    108.0\n",
       "2                 3         2 2023-01-01  11:57:40 AM    124.0\n",
       "3                 4         2 2023-01-01  11:57:40 AM    117.0\n",
       "4                 5         2 2023-01-01  11:57:40 AM    129.0"
      ]
     },
     "execution_count": 15,
     "metadata": {},
     "output_type": "execute_result"
    }
   ],
   "source": [
    "orders_copy.head()"
   ]
  },
  {
   "cell_type": "markdown",
   "id": "b5b795b6",
   "metadata": {},
   "source": [
    "#### Feature Engineering"
   ]
  },
  {
   "cell_type": "code",
   "execution_count": 16,
   "id": "0d664c9e",
   "metadata": {},
   "outputs": [],
   "source": [
    "#creating the date_time column\n",
    "orders_copy['date_time'] = orders_copy['order_date'].astype('str') + \" \" + orders_copy['order_time']"
   ]
  },
  {
   "cell_type": "code",
   "execution_count": 17,
   "id": "e3158899",
   "metadata": {},
   "outputs": [
    {
     "data": {
      "text/html": [
       "<div>\n",
       "<style scoped>\n",
       "    .dataframe tbody tr th:only-of-type {\n",
       "        vertical-align: middle;\n",
       "    }\n",
       "\n",
       "    .dataframe tbody tr th {\n",
       "        vertical-align: top;\n",
       "    }\n",
       "\n",
       "    .dataframe thead th {\n",
       "        text-align: right;\n",
       "    }\n",
       "</style>\n",
       "<table border=\"1\" class=\"dataframe\">\n",
       "  <thead>\n",
       "    <tr style=\"text-align: right;\">\n",
       "      <th></th>\n",
       "      <th>order_details_id</th>\n",
       "      <th>order_id</th>\n",
       "      <th>order_date</th>\n",
       "      <th>order_time</th>\n",
       "      <th>item_id</th>\n",
       "      <th>date_time</th>\n",
       "    </tr>\n",
       "  </thead>\n",
       "  <tbody>\n",
       "    <tr>\n",
       "      <th>0</th>\n",
       "      <td>1</td>\n",
       "      <td>1</td>\n",
       "      <td>2023-01-01</td>\n",
       "      <td>11:38:36 AM</td>\n",
       "      <td>109.0</td>\n",
       "      <td>2023-01-01 11:38:36 AM</td>\n",
       "    </tr>\n",
       "    <tr>\n",
       "      <th>1</th>\n",
       "      <td>2</td>\n",
       "      <td>2</td>\n",
       "      <td>2023-01-01</td>\n",
       "      <td>11:57:40 AM</td>\n",
       "      <td>108.0</td>\n",
       "      <td>2023-01-01 11:57:40 AM</td>\n",
       "    </tr>\n",
       "    <tr>\n",
       "      <th>2</th>\n",
       "      <td>3</td>\n",
       "      <td>2</td>\n",
       "      <td>2023-01-01</td>\n",
       "      <td>11:57:40 AM</td>\n",
       "      <td>124.0</td>\n",
       "      <td>2023-01-01 11:57:40 AM</td>\n",
       "    </tr>\n",
       "    <tr>\n",
       "      <th>3</th>\n",
       "      <td>4</td>\n",
       "      <td>2</td>\n",
       "      <td>2023-01-01</td>\n",
       "      <td>11:57:40 AM</td>\n",
       "      <td>117.0</td>\n",
       "      <td>2023-01-01 11:57:40 AM</td>\n",
       "    </tr>\n",
       "    <tr>\n",
       "      <th>4</th>\n",
       "      <td>5</td>\n",
       "      <td>2</td>\n",
       "      <td>2023-01-01</td>\n",
       "      <td>11:57:40 AM</td>\n",
       "      <td>129.0</td>\n",
       "      <td>2023-01-01 11:57:40 AM</td>\n",
       "    </tr>\n",
       "  </tbody>\n",
       "</table>\n",
       "</div>"
      ],
      "text/plain": [
       "   order_details_id  order_id order_date   order_time  item_id  \\\n",
       "0                 1         1 2023-01-01  11:38:36 AM    109.0   \n",
       "1                 2         2 2023-01-01  11:57:40 AM    108.0   \n",
       "2                 3         2 2023-01-01  11:57:40 AM    124.0   \n",
       "3                 4         2 2023-01-01  11:57:40 AM    117.0   \n",
       "4                 5         2 2023-01-01  11:57:40 AM    129.0   \n",
       "\n",
       "                date_time  \n",
       "0  2023-01-01 11:38:36 AM  \n",
       "1  2023-01-01 11:57:40 AM  \n",
       "2  2023-01-01 11:57:40 AM  \n",
       "3  2023-01-01 11:57:40 AM  \n",
       "4  2023-01-01 11:57:40 AM  "
      ]
     },
     "execution_count": 17,
     "metadata": {},
     "output_type": "execute_result"
    }
   ],
   "source": [
    "#checking if the column has been created\n",
    "orders_copy.head()"
   ]
  },
  {
   "cell_type": "code",
   "execution_count": 18,
   "id": "50b8f1bb",
   "metadata": {},
   "outputs": [
    {
     "data": {
      "text/plain": [
       "order_details_id             int64\n",
       "order_id                     int64\n",
       "order_date          datetime64[ns]\n",
       "order_time                  object\n",
       "item_id                    float64\n",
       "date_time                   object\n",
       "dtype: object"
      ]
     },
     "execution_count": 18,
     "metadata": {},
     "output_type": "execute_result"
    }
   ],
   "source": [
    "#checking the datatype of the date_time column\n",
    "orders_copy.dtypes"
   ]
  },
  {
   "cell_type": "code",
   "execution_count": 19,
   "id": "a1b35765",
   "metadata": {},
   "outputs": [],
   "source": [
    "#converting the date_time column to datetime64\n",
    "orders_copy['date_time'] = orders_copy['date_time'].astype('datetime64')"
   ]
  },
  {
   "cell_type": "code",
   "execution_count": 20,
   "id": "2bc2ab21",
   "metadata": {},
   "outputs": [],
   "source": [
    "#extracting the year, month, day and hours\n",
    "orders_copy['year'] = orders_copy['date_time'].dt.year\n",
    "orders_copy['month'] = orders_copy['date_time'].dt.month\n",
    "orders_copy['month_name'] = orders_copy['date_time'].dt.month_name()\n",
    "orders_copy['day'] = orders_copy['date_time'].dt.day\n",
    "orders_copy['day_name'] = orders_copy['date_time'].dt.day_name()\n",
    "orders_copy['hour'] = orders_copy['date_time'].dt.hour"
   ]
  },
  {
   "cell_type": "code",
   "execution_count": 21,
   "id": "dd9b6ddd",
   "metadata": {},
   "outputs": [
    {
     "data": {
      "text/html": [
       "<div>\n",
       "<style scoped>\n",
       "    .dataframe tbody tr th:only-of-type {\n",
       "        vertical-align: middle;\n",
       "    }\n",
       "\n",
       "    .dataframe tbody tr th {\n",
       "        vertical-align: top;\n",
       "    }\n",
       "\n",
       "    .dataframe thead th {\n",
       "        text-align: right;\n",
       "    }\n",
       "</style>\n",
       "<table border=\"1\" class=\"dataframe\">\n",
       "  <thead>\n",
       "    <tr style=\"text-align: right;\">\n",
       "      <th></th>\n",
       "      <th>order_details_id</th>\n",
       "      <th>order_id</th>\n",
       "      <th>order_date</th>\n",
       "      <th>order_time</th>\n",
       "      <th>item_id</th>\n",
       "      <th>date_time</th>\n",
       "      <th>year</th>\n",
       "      <th>month</th>\n",
       "      <th>month_name</th>\n",
       "      <th>day</th>\n",
       "      <th>day_name</th>\n",
       "      <th>hour</th>\n",
       "    </tr>\n",
       "  </thead>\n",
       "  <tbody>\n",
       "    <tr>\n",
       "      <th>0</th>\n",
       "      <td>1</td>\n",
       "      <td>1</td>\n",
       "      <td>2023-01-01</td>\n",
       "      <td>11:38:36 AM</td>\n",
       "      <td>109.0</td>\n",
       "      <td>2023-01-01 11:38:36</td>\n",
       "      <td>2023</td>\n",
       "      <td>1</td>\n",
       "      <td>January</td>\n",
       "      <td>1</td>\n",
       "      <td>Sunday</td>\n",
       "      <td>11</td>\n",
       "    </tr>\n",
       "    <tr>\n",
       "      <th>1</th>\n",
       "      <td>2</td>\n",
       "      <td>2</td>\n",
       "      <td>2023-01-01</td>\n",
       "      <td>11:57:40 AM</td>\n",
       "      <td>108.0</td>\n",
       "      <td>2023-01-01 11:57:40</td>\n",
       "      <td>2023</td>\n",
       "      <td>1</td>\n",
       "      <td>January</td>\n",
       "      <td>1</td>\n",
       "      <td>Sunday</td>\n",
       "      <td>11</td>\n",
       "    </tr>\n",
       "    <tr>\n",
       "      <th>2</th>\n",
       "      <td>3</td>\n",
       "      <td>2</td>\n",
       "      <td>2023-01-01</td>\n",
       "      <td>11:57:40 AM</td>\n",
       "      <td>124.0</td>\n",
       "      <td>2023-01-01 11:57:40</td>\n",
       "      <td>2023</td>\n",
       "      <td>1</td>\n",
       "      <td>January</td>\n",
       "      <td>1</td>\n",
       "      <td>Sunday</td>\n",
       "      <td>11</td>\n",
       "    </tr>\n",
       "    <tr>\n",
       "      <th>3</th>\n",
       "      <td>4</td>\n",
       "      <td>2</td>\n",
       "      <td>2023-01-01</td>\n",
       "      <td>11:57:40 AM</td>\n",
       "      <td>117.0</td>\n",
       "      <td>2023-01-01 11:57:40</td>\n",
       "      <td>2023</td>\n",
       "      <td>1</td>\n",
       "      <td>January</td>\n",
       "      <td>1</td>\n",
       "      <td>Sunday</td>\n",
       "      <td>11</td>\n",
       "    </tr>\n",
       "    <tr>\n",
       "      <th>4</th>\n",
       "      <td>5</td>\n",
       "      <td>2</td>\n",
       "      <td>2023-01-01</td>\n",
       "      <td>11:57:40 AM</td>\n",
       "      <td>129.0</td>\n",
       "      <td>2023-01-01 11:57:40</td>\n",
       "      <td>2023</td>\n",
       "      <td>1</td>\n",
       "      <td>January</td>\n",
       "      <td>1</td>\n",
       "      <td>Sunday</td>\n",
       "      <td>11</td>\n",
       "    </tr>\n",
       "  </tbody>\n",
       "</table>\n",
       "</div>"
      ],
      "text/plain": [
       "   order_details_id  order_id order_date   order_time  item_id  \\\n",
       "0                 1         1 2023-01-01  11:38:36 AM    109.0   \n",
       "1                 2         2 2023-01-01  11:57:40 AM    108.0   \n",
       "2                 3         2 2023-01-01  11:57:40 AM    124.0   \n",
       "3                 4         2 2023-01-01  11:57:40 AM    117.0   \n",
       "4                 5         2 2023-01-01  11:57:40 AM    129.0   \n",
       "\n",
       "            date_time  year  month month_name  day day_name  hour  \n",
       "0 2023-01-01 11:38:36  2023      1    January    1   Sunday    11  \n",
       "1 2023-01-01 11:57:40  2023      1    January    1   Sunday    11  \n",
       "2 2023-01-01 11:57:40  2023      1    January    1   Sunday    11  \n",
       "3 2023-01-01 11:57:40  2023      1    January    1   Sunday    11  \n",
       "4 2023-01-01 11:57:40  2023      1    January    1   Sunday    11  "
      ]
     },
     "execution_count": 21,
     "metadata": {},
     "output_type": "execute_result"
    }
   ],
   "source": [
    "#display the head\n",
    "orders_copy.head()"
   ]
  },
  {
   "cell_type": "code",
   "execution_count": 22,
   "id": "327970e5",
   "metadata": {},
   "outputs": [],
   "source": [
    "#extracting the time period (AM or PM)\n",
    "orders_copy['time_period'] = orders_copy['order_time'].str[-2:]"
   ]
  },
  {
   "cell_type": "code",
   "execution_count": 23,
   "id": "cfbf7b93",
   "metadata": {},
   "outputs": [
    {
     "data": {
      "text/html": [
       "<div>\n",
       "<style scoped>\n",
       "    .dataframe tbody tr th:only-of-type {\n",
       "        vertical-align: middle;\n",
       "    }\n",
       "\n",
       "    .dataframe tbody tr th {\n",
       "        vertical-align: top;\n",
       "    }\n",
       "\n",
       "    .dataframe thead th {\n",
       "        text-align: right;\n",
       "    }\n",
       "</style>\n",
       "<table border=\"1\" class=\"dataframe\">\n",
       "  <thead>\n",
       "    <tr style=\"text-align: right;\">\n",
       "      <th></th>\n",
       "      <th>order_details_id</th>\n",
       "      <th>order_id</th>\n",
       "      <th>order_date</th>\n",
       "      <th>order_time</th>\n",
       "      <th>item_id</th>\n",
       "      <th>date_time</th>\n",
       "      <th>year</th>\n",
       "      <th>month</th>\n",
       "      <th>month_name</th>\n",
       "      <th>day</th>\n",
       "      <th>day_name</th>\n",
       "      <th>hour</th>\n",
       "      <th>time_period</th>\n",
       "    </tr>\n",
       "  </thead>\n",
       "  <tbody>\n",
       "    <tr>\n",
       "      <th>0</th>\n",
       "      <td>1</td>\n",
       "      <td>1</td>\n",
       "      <td>2023-01-01</td>\n",
       "      <td>11:38:36 AM</td>\n",
       "      <td>109.0</td>\n",
       "      <td>2023-01-01 11:38:36</td>\n",
       "      <td>2023</td>\n",
       "      <td>1</td>\n",
       "      <td>January</td>\n",
       "      <td>1</td>\n",
       "      <td>Sunday</td>\n",
       "      <td>11</td>\n",
       "      <td>AM</td>\n",
       "    </tr>\n",
       "    <tr>\n",
       "      <th>1</th>\n",
       "      <td>2</td>\n",
       "      <td>2</td>\n",
       "      <td>2023-01-01</td>\n",
       "      <td>11:57:40 AM</td>\n",
       "      <td>108.0</td>\n",
       "      <td>2023-01-01 11:57:40</td>\n",
       "      <td>2023</td>\n",
       "      <td>1</td>\n",
       "      <td>January</td>\n",
       "      <td>1</td>\n",
       "      <td>Sunday</td>\n",
       "      <td>11</td>\n",
       "      <td>AM</td>\n",
       "    </tr>\n",
       "    <tr>\n",
       "      <th>2</th>\n",
       "      <td>3</td>\n",
       "      <td>2</td>\n",
       "      <td>2023-01-01</td>\n",
       "      <td>11:57:40 AM</td>\n",
       "      <td>124.0</td>\n",
       "      <td>2023-01-01 11:57:40</td>\n",
       "      <td>2023</td>\n",
       "      <td>1</td>\n",
       "      <td>January</td>\n",
       "      <td>1</td>\n",
       "      <td>Sunday</td>\n",
       "      <td>11</td>\n",
       "      <td>AM</td>\n",
       "    </tr>\n",
       "    <tr>\n",
       "      <th>3</th>\n",
       "      <td>4</td>\n",
       "      <td>2</td>\n",
       "      <td>2023-01-01</td>\n",
       "      <td>11:57:40 AM</td>\n",
       "      <td>117.0</td>\n",
       "      <td>2023-01-01 11:57:40</td>\n",
       "      <td>2023</td>\n",
       "      <td>1</td>\n",
       "      <td>January</td>\n",
       "      <td>1</td>\n",
       "      <td>Sunday</td>\n",
       "      <td>11</td>\n",
       "      <td>AM</td>\n",
       "    </tr>\n",
       "    <tr>\n",
       "      <th>4</th>\n",
       "      <td>5</td>\n",
       "      <td>2</td>\n",
       "      <td>2023-01-01</td>\n",
       "      <td>11:57:40 AM</td>\n",
       "      <td>129.0</td>\n",
       "      <td>2023-01-01 11:57:40</td>\n",
       "      <td>2023</td>\n",
       "      <td>1</td>\n",
       "      <td>January</td>\n",
       "      <td>1</td>\n",
       "      <td>Sunday</td>\n",
       "      <td>11</td>\n",
       "      <td>AM</td>\n",
       "    </tr>\n",
       "  </tbody>\n",
       "</table>\n",
       "</div>"
      ],
      "text/plain": [
       "   order_details_id  order_id order_date   order_time  item_id  \\\n",
       "0                 1         1 2023-01-01  11:38:36 AM    109.0   \n",
       "1                 2         2 2023-01-01  11:57:40 AM    108.0   \n",
       "2                 3         2 2023-01-01  11:57:40 AM    124.0   \n",
       "3                 4         2 2023-01-01  11:57:40 AM    117.0   \n",
       "4                 5         2 2023-01-01  11:57:40 AM    129.0   \n",
       "\n",
       "            date_time  year  month month_name  day day_name  hour time_period  \n",
       "0 2023-01-01 11:38:36  2023      1    January    1   Sunday    11          AM  \n",
       "1 2023-01-01 11:57:40  2023      1    January    1   Sunday    11          AM  \n",
       "2 2023-01-01 11:57:40  2023      1    January    1   Sunday    11          AM  \n",
       "3 2023-01-01 11:57:40  2023      1    January    1   Sunday    11          AM  \n",
       "4 2023-01-01 11:57:40  2023      1    January    1   Sunday    11          AM  "
      ]
     },
     "execution_count": 23,
     "metadata": {},
     "output_type": "execute_result"
    }
   ],
   "source": [
    "#display the head\n",
    "orders_copy.head()"
   ]
  },
  {
   "cell_type": "code",
   "execution_count": 24,
   "id": "41ed1418",
   "metadata": {},
   "outputs": [
    {
     "data": {
      "text/plain": [
       "array(['January', 'February', 'March'], dtype=object)"
      ]
     },
     "execution_count": 24,
     "metadata": {},
     "output_type": "execute_result"
    }
   ],
   "source": [
    "#checking unique months\n",
    "orders_copy['month_name'].unique()"
   ]
  },
  {
   "cell_type": "code",
   "execution_count": 25,
   "id": "bb5e751f",
   "metadata": {},
   "outputs": [
    {
     "data": {
      "text/plain": [
       "array(['Sunday', 'Monday', 'Tuesday', 'Wednesday', 'Thursday', 'Friday',\n",
       "       'Saturday'], dtype=object)"
      ]
     },
     "execution_count": 25,
     "metadata": {},
     "output_type": "execute_result"
    }
   ],
   "source": [
    "#checking for unique days\n",
    "orders_copy['day_name'].unique()"
   ]
  },
  {
   "cell_type": "code",
   "execution_count": 26,
   "id": "bb210470",
   "metadata": {},
   "outputs": [
    {
     "data": {
      "text/plain": [
       "array([2023], dtype=int64)"
      ]
     },
     "execution_count": 26,
     "metadata": {},
     "output_type": "execute_result"
    }
   ],
   "source": [
    "#checking for unique years\n",
    "orders_copy['year'].unique()"
   ]
  },
  {
   "cell_type": "code",
   "execution_count": 27,
   "id": "34391a03",
   "metadata": {},
   "outputs": [
    {
     "data": {
      "text/plain": [
       "array([11, 12, 13, 14, 15, 16, 17, 18, 19, 20, 21, 22, 23, 10],\n",
       "      dtype=int64)"
      ]
     },
     "execution_count": 27,
     "metadata": {},
     "output_type": "execute_result"
    }
   ],
   "source": [
    "#checking for unique order hours\n",
    "orders_copy['hour'].unique()"
   ]
  },
  {
   "cell_type": "code",
   "execution_count": 28,
   "id": "c2ebb82c",
   "metadata": {},
   "outputs": [],
   "source": [
    "#dropping unneeded columns\n",
    "orders_copy.drop(['order_time', 'year'], inplace=True, axis=1)"
   ]
  },
  {
   "cell_type": "code",
   "execution_count": 29,
   "id": "7196d80d",
   "metadata": {},
   "outputs": [
    {
     "data": {
      "text/html": [
       "<div>\n",
       "<style scoped>\n",
       "    .dataframe tbody tr th:only-of-type {\n",
       "        vertical-align: middle;\n",
       "    }\n",
       "\n",
       "    .dataframe tbody tr th {\n",
       "        vertical-align: top;\n",
       "    }\n",
       "\n",
       "    .dataframe thead th {\n",
       "        text-align: right;\n",
       "    }\n",
       "</style>\n",
       "<table border=\"1\" class=\"dataframe\">\n",
       "  <thead>\n",
       "    <tr style=\"text-align: right;\">\n",
       "      <th></th>\n",
       "      <th>order_details_id</th>\n",
       "      <th>order_id</th>\n",
       "      <th>order_date</th>\n",
       "      <th>item_id</th>\n",
       "      <th>date_time</th>\n",
       "      <th>month</th>\n",
       "      <th>month_name</th>\n",
       "      <th>day</th>\n",
       "      <th>day_name</th>\n",
       "      <th>hour</th>\n",
       "      <th>time_period</th>\n",
       "    </tr>\n",
       "  </thead>\n",
       "  <tbody>\n",
       "    <tr>\n",
       "      <th>0</th>\n",
       "      <td>1</td>\n",
       "      <td>1</td>\n",
       "      <td>2023-01-01</td>\n",
       "      <td>109.0</td>\n",
       "      <td>2023-01-01 11:38:36</td>\n",
       "      <td>1</td>\n",
       "      <td>January</td>\n",
       "      <td>1</td>\n",
       "      <td>Sunday</td>\n",
       "      <td>11</td>\n",
       "      <td>AM</td>\n",
       "    </tr>\n",
       "    <tr>\n",
       "      <th>1</th>\n",
       "      <td>2</td>\n",
       "      <td>2</td>\n",
       "      <td>2023-01-01</td>\n",
       "      <td>108.0</td>\n",
       "      <td>2023-01-01 11:57:40</td>\n",
       "      <td>1</td>\n",
       "      <td>January</td>\n",
       "      <td>1</td>\n",
       "      <td>Sunday</td>\n",
       "      <td>11</td>\n",
       "      <td>AM</td>\n",
       "    </tr>\n",
       "    <tr>\n",
       "      <th>2</th>\n",
       "      <td>3</td>\n",
       "      <td>2</td>\n",
       "      <td>2023-01-01</td>\n",
       "      <td>124.0</td>\n",
       "      <td>2023-01-01 11:57:40</td>\n",
       "      <td>1</td>\n",
       "      <td>January</td>\n",
       "      <td>1</td>\n",
       "      <td>Sunday</td>\n",
       "      <td>11</td>\n",
       "      <td>AM</td>\n",
       "    </tr>\n",
       "    <tr>\n",
       "      <th>3</th>\n",
       "      <td>4</td>\n",
       "      <td>2</td>\n",
       "      <td>2023-01-01</td>\n",
       "      <td>117.0</td>\n",
       "      <td>2023-01-01 11:57:40</td>\n",
       "      <td>1</td>\n",
       "      <td>January</td>\n",
       "      <td>1</td>\n",
       "      <td>Sunday</td>\n",
       "      <td>11</td>\n",
       "      <td>AM</td>\n",
       "    </tr>\n",
       "    <tr>\n",
       "      <th>4</th>\n",
       "      <td>5</td>\n",
       "      <td>2</td>\n",
       "      <td>2023-01-01</td>\n",
       "      <td>129.0</td>\n",
       "      <td>2023-01-01 11:57:40</td>\n",
       "      <td>1</td>\n",
       "      <td>January</td>\n",
       "      <td>1</td>\n",
       "      <td>Sunday</td>\n",
       "      <td>11</td>\n",
       "      <td>AM</td>\n",
       "    </tr>\n",
       "  </tbody>\n",
       "</table>\n",
       "</div>"
      ],
      "text/plain": [
       "   order_details_id  order_id order_date  item_id           date_time  month  \\\n",
       "0                 1         1 2023-01-01    109.0 2023-01-01 11:38:36      1   \n",
       "1                 2         2 2023-01-01    108.0 2023-01-01 11:57:40      1   \n",
       "2                 3         2 2023-01-01    124.0 2023-01-01 11:57:40      1   \n",
       "3                 4         2 2023-01-01    117.0 2023-01-01 11:57:40      1   \n",
       "4                 5         2 2023-01-01    129.0 2023-01-01 11:57:40      1   \n",
       "\n",
       "  month_name  day day_name  hour time_period  \n",
       "0    January    1   Sunday    11          AM  \n",
       "1    January    1   Sunday    11          AM  \n",
       "2    January    1   Sunday    11          AM  \n",
       "3    January    1   Sunday    11          AM  \n",
       "4    January    1   Sunday    11          AM  "
      ]
     },
     "execution_count": 29,
     "metadata": {},
     "output_type": "execute_result"
    }
   ],
   "source": [
    "#display head\n",
    "orders_copy.head()"
   ]
  },
  {
   "cell_type": "markdown",
   "id": "a00b97fa",
   "metadata": {},
   "source": [
    "### Data Wrangling (Menu's Table)"
   ]
  },
  {
   "cell_type": "code",
   "execution_count": 30,
   "id": "f05d7908",
   "metadata": {},
   "outputs": [
    {
     "data": {
      "text/plain": [
       "(32, 4)"
      ]
     },
     "execution_count": 30,
     "metadata": {},
     "output_type": "execute_result"
    }
   ],
   "source": [
    "#understanding the shape\n",
    "menu.shape"
   ]
  },
  {
   "cell_type": "markdown",
   "id": "4497f7aa",
   "metadata": {},
   "source": [
    "- There are 32 records in the menu table"
   ]
  },
  {
   "cell_type": "code",
   "execution_count": 31,
   "id": "a328eb49",
   "metadata": {},
   "outputs": [
    {
     "data": {
      "text/plain": [
       "menu_item_id    0\n",
       "item_name       0\n",
       "category        0\n",
       "price           0\n",
       "dtype: int64"
      ]
     },
     "execution_count": 31,
     "metadata": {},
     "output_type": "execute_result"
    }
   ],
   "source": [
    "#checking for missing values\n",
    "menu.isna().sum()"
   ]
  },
  {
   "cell_type": "markdown",
   "id": "c62bfd9b",
   "metadata": {},
   "source": [
    "- There are no missing values"
   ]
  },
  {
   "cell_type": "code",
   "execution_count": 32,
   "id": "36757aed",
   "metadata": {},
   "outputs": [
    {
     "data": {
      "text/plain": [
       "0"
      ]
     },
     "execution_count": 32,
     "metadata": {},
     "output_type": "execute_result"
    }
   ],
   "source": [
    "#checking for duplicates\n",
    "menu.duplicated().sum()"
   ]
  },
  {
   "cell_type": "code",
   "execution_count": 33,
   "id": "b52ffcbc",
   "metadata": {},
   "outputs": [
    {
     "data": {
      "text/plain": [
       "menu_item_id      int64\n",
       "item_name        object\n",
       "category         object\n",
       "price           float64\n",
       "dtype: object"
      ]
     },
     "execution_count": 33,
     "metadata": {},
     "output_type": "execute_result"
    }
   ],
   "source": [
    "#checking the datatype\n",
    "menu.dtypes"
   ]
  },
  {
   "cell_type": "code",
   "execution_count": 34,
   "id": "ae81992f",
   "metadata": {},
   "outputs": [
    {
     "data": {
      "text/plain": [
       "4"
      ]
     },
     "execution_count": 34,
     "metadata": {},
     "output_type": "execute_result"
    }
   ],
   "source": [
    "#checking for number of categories\n",
    "menu['category'].nunique()"
   ]
  },
  {
   "cell_type": "markdown",
   "id": "a14c4695",
   "metadata": {},
   "source": [
    "- There are four categories of food sold"
   ]
  },
  {
   "cell_type": "code",
   "execution_count": 35,
   "id": "b4242aa6",
   "metadata": {},
   "outputs": [
    {
     "data": {
      "text/plain": [
       "array(['American', 'Asian', 'Mexican', 'Italian'], dtype=object)"
      ]
     },
     "execution_count": 35,
     "metadata": {},
     "output_type": "execute_result"
    }
   ],
   "source": [
    "#checking for unique categories\n",
    "menu['category'].unique()"
   ]
  },
  {
   "cell_type": "code",
   "execution_count": 36,
   "id": "ab2a49a5",
   "metadata": {},
   "outputs": [
    {
     "data": {
      "text/plain": [
       "32"
      ]
     },
     "execution_count": 36,
     "metadata": {},
     "output_type": "execute_result"
    }
   ],
   "source": [
    "#checking for number of items sold\n",
    "menu['item_name'].nunique()"
   ]
  },
  {
   "cell_type": "markdown",
   "id": "d56d694e",
   "metadata": {},
   "source": [
    "- There are 32 unique items sold"
   ]
  },
  {
   "cell_type": "code",
   "execution_count": 37,
   "id": "d74d26c0",
   "metadata": {},
   "outputs": [
    {
     "data": {
      "text/plain": [
       "array(['Hamburger', 'Cheeseburger', 'Hot Dog', 'Veggie Burger',\n",
       "       'Mac & Cheese', 'French Fries', 'Orange Chicken', 'Tofu Pad Thai',\n",
       "       'Korean Beef Bowl', 'Pork Ramen', 'California Roll', 'Salmon Roll',\n",
       "       'Edamame', 'Potstickers', 'Chicken Tacos', 'Steak Tacos',\n",
       "       'Chicken Burrito', 'Steak Burrito', 'Chicken Torta', 'Steak Torta',\n",
       "       'Cheese Quesadillas', 'Chips & Salsa', 'Chips & Guacamole',\n",
       "       'Spaghetti', 'Spaghetti & Meatballs', 'Fettuccine Alfredo',\n",
       "       'Meat Lasagna', 'Cheese Lasagna', 'Mushroom Ravioli',\n",
       "       'Shrimp Scampi', 'Chicken Parmesan', 'Eggplant Parmesan'],\n",
       "      dtype=object)"
      ]
     },
     "execution_count": 37,
     "metadata": {},
     "output_type": "execute_result"
    }
   ],
   "source": [
    "menu['item_name'].unique()"
   ]
  },
  {
   "cell_type": "code",
   "execution_count": 38,
   "id": "8c0ae885",
   "metadata": {},
   "outputs": [],
   "source": [
    "#renaming the menu_item_id column to item_id\n",
    "menu.rename(columns={\n",
    "    'menu_item_id': 'item_id'\n",
    "}, inplace=True)"
   ]
  },
  {
   "cell_type": "markdown",
   "id": "4c3e77f0",
   "metadata": {},
   "source": [
    "### Merging the tables"
   ]
  },
  {
   "cell_type": "code",
   "execution_count": 39,
   "id": "7ecb38b1",
   "metadata": {},
   "outputs": [],
   "source": [
    "## Merging the two tables\n",
    "df = orders_copy.merge(menu, on='item_id', how='left')"
   ]
  },
  {
   "cell_type": "code",
   "execution_count": 40,
   "id": "6bea3120",
   "metadata": {},
   "outputs": [
    {
     "data": {
      "text/html": [
       "<div>\n",
       "<style scoped>\n",
       "    .dataframe tbody tr th:only-of-type {\n",
       "        vertical-align: middle;\n",
       "    }\n",
       "\n",
       "    .dataframe tbody tr th {\n",
       "        vertical-align: top;\n",
       "    }\n",
       "\n",
       "    .dataframe thead th {\n",
       "        text-align: right;\n",
       "    }\n",
       "</style>\n",
       "<table border=\"1\" class=\"dataframe\">\n",
       "  <thead>\n",
       "    <tr style=\"text-align: right;\">\n",
       "      <th></th>\n",
       "      <th>order_details_id</th>\n",
       "      <th>order_id</th>\n",
       "      <th>order_date</th>\n",
       "      <th>item_id</th>\n",
       "      <th>date_time</th>\n",
       "      <th>month</th>\n",
       "      <th>month_name</th>\n",
       "      <th>day</th>\n",
       "      <th>day_name</th>\n",
       "      <th>hour</th>\n",
       "      <th>time_period</th>\n",
       "      <th>item_name</th>\n",
       "      <th>category</th>\n",
       "      <th>price</th>\n",
       "    </tr>\n",
       "  </thead>\n",
       "  <tbody>\n",
       "    <tr>\n",
       "      <th>0</th>\n",
       "      <td>1</td>\n",
       "      <td>1</td>\n",
       "      <td>2023-01-01</td>\n",
       "      <td>109.0</td>\n",
       "      <td>2023-01-01 11:38:36</td>\n",
       "      <td>1</td>\n",
       "      <td>January</td>\n",
       "      <td>1</td>\n",
       "      <td>Sunday</td>\n",
       "      <td>11</td>\n",
       "      <td>AM</td>\n",
       "      <td>Korean Beef Bowl</td>\n",
       "      <td>Asian</td>\n",
       "      <td>17.95</td>\n",
       "    </tr>\n",
       "    <tr>\n",
       "      <th>1</th>\n",
       "      <td>2</td>\n",
       "      <td>2</td>\n",
       "      <td>2023-01-01</td>\n",
       "      <td>108.0</td>\n",
       "      <td>2023-01-01 11:57:40</td>\n",
       "      <td>1</td>\n",
       "      <td>January</td>\n",
       "      <td>1</td>\n",
       "      <td>Sunday</td>\n",
       "      <td>11</td>\n",
       "      <td>AM</td>\n",
       "      <td>Tofu Pad Thai</td>\n",
       "      <td>Asian</td>\n",
       "      <td>14.50</td>\n",
       "    </tr>\n",
       "    <tr>\n",
       "      <th>2</th>\n",
       "      <td>3</td>\n",
       "      <td>2</td>\n",
       "      <td>2023-01-01</td>\n",
       "      <td>124.0</td>\n",
       "      <td>2023-01-01 11:57:40</td>\n",
       "      <td>1</td>\n",
       "      <td>January</td>\n",
       "      <td>1</td>\n",
       "      <td>Sunday</td>\n",
       "      <td>11</td>\n",
       "      <td>AM</td>\n",
       "      <td>Spaghetti</td>\n",
       "      <td>Italian</td>\n",
       "      <td>14.50</td>\n",
       "    </tr>\n",
       "    <tr>\n",
       "      <th>3</th>\n",
       "      <td>4</td>\n",
       "      <td>2</td>\n",
       "      <td>2023-01-01</td>\n",
       "      <td>117.0</td>\n",
       "      <td>2023-01-01 11:57:40</td>\n",
       "      <td>1</td>\n",
       "      <td>January</td>\n",
       "      <td>1</td>\n",
       "      <td>Sunday</td>\n",
       "      <td>11</td>\n",
       "      <td>AM</td>\n",
       "      <td>Chicken Burrito</td>\n",
       "      <td>Mexican</td>\n",
       "      <td>12.95</td>\n",
       "    </tr>\n",
       "    <tr>\n",
       "      <th>4</th>\n",
       "      <td>5</td>\n",
       "      <td>2</td>\n",
       "      <td>2023-01-01</td>\n",
       "      <td>129.0</td>\n",
       "      <td>2023-01-01 11:57:40</td>\n",
       "      <td>1</td>\n",
       "      <td>January</td>\n",
       "      <td>1</td>\n",
       "      <td>Sunday</td>\n",
       "      <td>11</td>\n",
       "      <td>AM</td>\n",
       "      <td>Mushroom Ravioli</td>\n",
       "      <td>Italian</td>\n",
       "      <td>15.50</td>\n",
       "    </tr>\n",
       "  </tbody>\n",
       "</table>\n",
       "</div>"
      ],
      "text/plain": [
       "   order_details_id  order_id order_date  item_id           date_time  month  \\\n",
       "0                 1         1 2023-01-01    109.0 2023-01-01 11:38:36      1   \n",
       "1                 2         2 2023-01-01    108.0 2023-01-01 11:57:40      1   \n",
       "2                 3         2 2023-01-01    124.0 2023-01-01 11:57:40      1   \n",
       "3                 4         2 2023-01-01    117.0 2023-01-01 11:57:40      1   \n",
       "4                 5         2 2023-01-01    129.0 2023-01-01 11:57:40      1   \n",
       "\n",
       "  month_name  day day_name  hour time_period         item_name category  price  \n",
       "0    January    1   Sunday    11          AM  Korean Beef Bowl    Asian  17.95  \n",
       "1    January    1   Sunday    11          AM     Tofu Pad Thai    Asian  14.50  \n",
       "2    January    1   Sunday    11          AM         Spaghetti  Italian  14.50  \n",
       "3    January    1   Sunday    11          AM   Chicken Burrito  Mexican  12.95  \n",
       "4    January    1   Sunday    11          AM  Mushroom Ravioli  Italian  15.50  "
      ]
     },
     "execution_count": 40,
     "metadata": {},
     "output_type": "execute_result"
    }
   ],
   "source": [
    "#display first 5 record of the dataframe\n",
    "df.head()"
   ]
  },
  {
   "cell_type": "markdown",
   "id": "7be48532",
   "metadata": {},
   "source": [
    "## Data Analysis"
   ]
  },
  {
   "cell_type": "markdown",
   "id": "a7f68b50",
   "metadata": {},
   "source": [
    "### Total Items Ordered"
   ]
  },
  {
   "cell_type": "code",
   "execution_count": 41,
   "id": "e2a48cf9",
   "metadata": {},
   "outputs": [
    {
     "data": {
      "text/plain": [
       "12097"
      ]
     },
     "execution_count": 41,
     "metadata": {},
     "output_type": "execute_result"
    }
   ],
   "source": [
    "# What is the total menu items order placed in the first Quater\n",
    "total_menu_items_ordered = df['order_id'].count()\n",
    "total_menu_items_ordered"
   ]
  },
  {
   "cell_type": "markdown",
   "id": "775b0f12",
   "metadata": {},
   "source": [
    "- There are 12,097 orders placed"
   ]
  },
  {
   "cell_type": "markdown",
   "id": "5d08f836",
   "metadata": {},
   "source": [
    "### Total Orders"
   ]
  },
  {
   "cell_type": "code",
   "execution_count": 42,
   "id": "717f0b9c",
   "metadata": {},
   "outputs": [
    {
     "data": {
      "text/plain": [
       "5343"
      ]
     },
     "execution_count": 42,
     "metadata": {},
     "output_type": "execute_result"
    }
   ],
   "source": [
    "#what is the total customers the business had in the first quarter\n",
    "total_orders = df['order_id'].nunique()\n",
    "total_orders"
   ]
  },
  {
   "cell_type": "markdown",
   "id": "7fad0f9a",
   "metadata": {},
   "source": [
    "### Total days"
   ]
  },
  {
   "cell_type": "code",
   "execution_count": 43,
   "id": "56746cb2",
   "metadata": {},
   "outputs": [
    {
     "data": {
      "text/plain": [
       "89"
      ]
     },
     "execution_count": 43,
     "metadata": {},
     "output_type": "execute_result"
    }
   ],
   "source": [
    "#total number of days\n",
    "total_days = (df['order_date'].max() - df['order_date'].min()).days\n",
    "total_days"
   ]
  },
  {
   "cell_type": "markdown",
   "id": "6dfb9135",
   "metadata": {},
   "source": [
    "### Average Order Per day "
   ]
  },
  {
   "cell_type": "code",
   "execution_count": 44,
   "id": "3ba328e6",
   "metadata": {},
   "outputs": [
    {
     "data": {
      "text/plain": [
       "60.0"
      ]
     },
     "execution_count": 44,
     "metadata": {},
     "output_type": "execute_result"
    }
   ],
   "source": [
    "#Average Order Per day \n",
    "avg_order_per_day = round(total_orders/total_days, 0)\n",
    "avg_order_per_day"
   ]
  },
  {
   "cell_type": "markdown",
   "id": "5cbcb165",
   "metadata": {},
   "source": [
    "- A total of **60** orders were placed every day on average"
   ]
  },
  {
   "cell_type": "markdown",
   "id": "7becd944",
   "metadata": {},
   "source": [
    "### Average menu item ordered per day"
   ]
  },
  {
   "cell_type": "code",
   "execution_count": 45,
   "id": "5762f16c",
   "metadata": {},
   "outputs": [
    {
     "data": {
      "text/plain": [
       "136.0"
      ]
     },
     "execution_count": 45,
     "metadata": {},
     "output_type": "execute_result"
    }
   ],
   "source": [
    "#Average menu ordered per day\n",
    "avg_item_per_day = round((total_menu_items_ordered/total_days) ,0)\n",
    "avg_item_per_day"
   ]
  },
  {
   "cell_type": "markdown",
   "id": "ff27c605",
   "metadata": {},
   "source": [
    "### Total Orders by Month"
   ]
  },
  {
   "cell_type": "code",
   "execution_count": 46,
   "id": "8b7f6a28",
   "metadata": {},
   "outputs": [
    {
     "data": {
      "text/html": [
       "<div>\n",
       "<style scoped>\n",
       "    .dataframe tbody tr th:only-of-type {\n",
       "        vertical-align: middle;\n",
       "    }\n",
       "\n",
       "    .dataframe tbody tr th {\n",
       "        vertical-align: top;\n",
       "    }\n",
       "\n",
       "    .dataframe thead th {\n",
       "        text-align: right;\n",
       "    }\n",
       "</style>\n",
       "<table border=\"1\" class=\"dataframe\">\n",
       "  <thead>\n",
       "    <tr style=\"text-align: right;\">\n",
       "      <th></th>\n",
       "      <th>month</th>\n",
       "      <th>month_name</th>\n",
       "      <th>total_orders</th>\n",
       "    </tr>\n",
       "  </thead>\n",
       "  <tbody>\n",
       "    <tr>\n",
       "      <th>0</th>\n",
       "      <td>1</td>\n",
       "      <td>January</td>\n",
       "      <td>1835</td>\n",
       "    </tr>\n",
       "    <tr>\n",
       "      <th>1</th>\n",
       "      <td>2</td>\n",
       "      <td>February</td>\n",
       "      <td>1675</td>\n",
       "    </tr>\n",
       "    <tr>\n",
       "      <th>2</th>\n",
       "      <td>3</td>\n",
       "      <td>March</td>\n",
       "      <td>1833</td>\n",
       "    </tr>\n",
       "  </tbody>\n",
       "</table>\n",
       "</div>"
      ],
      "text/plain": [
       "   month month_name  total_orders\n",
       "0      1    January          1835\n",
       "1      2   February          1675\n",
       "2      3      March          1833"
      ]
     },
     "execution_count": 46,
     "metadata": {},
     "output_type": "execute_result"
    }
   ],
   "source": [
    "#total orders by month\n",
    "month_orders = (df.groupby(['month', 'month_name'], as_index=False)\n",
    "                    .agg(total_orders = ('order_id', 'nunique'))\n",
    "                    .sort_values('month', ascending=True))\n",
    "month_orders"
   ]
  },
  {
   "cell_type": "code",
   "execution_count": 53,
   "id": "5689732e",
   "metadata": {},
   "outputs": [
    {
     "data": {
      "image/png": "[encoded data removed]",
      "text/plain": [
       "<Figure size 500x300 with 1 Axes>"
      ]
     },
     "metadata": {},
     "output_type": "display_data"
    }
   ],
   "source": [
    "#plotting the total orders by month\n",
    "fig, ax = plt.subplots(figsize=[5,3])\n",
    "\n",
    "#ax.bar(x=month_orders['month_name'], height=month_orders['total_orders'])\n",
    "sns.barplot(x=month_orders['month_name'], y=month_orders['total_orders'])\n",
    "\n",
    "#remove spines and y-axis\n",
    "sns.despine(left=True)\n",
    "ax.yaxis.set_visible(False)\n",
    "\n",
    "#add title\n",
    "ax.set_title('Monthly Orders')\n",
    "ax.set_xlabel('Month')\n",
    "for index, value in enumerate(month_orders['total_orders']):\n",
    "    ax.annotate(value, xy=(index, value+70), va='center', ha='center')\n",
    "plt.show()"
   ]
  },
  {
   "cell_type": "markdown",
   "id": "b857bb87",
   "metadata": {},
   "source": [
    "- The month of January had the highest number of orders"
   ]
  },
  {
   "cell_type": "markdown",
   "id": "4c5b9310",
   "metadata": {},
   "source": [
    "### MOM change in orders"
   ]
  },
  {
   "cell_type": "code",
   "execution_count": 55,
   "id": "1e74cf5c",
   "metadata": {},
   "outputs": [
    {
     "data": {
      "text/html": [
       "<div>\n",
       "<style scoped>\n",
       "    .dataframe tbody tr th:only-of-type {\n",
       "        vertical-align: middle;\n",
       "    }\n",
       "\n",
       "    .dataframe tbody tr th {\n",
       "        vertical-align: top;\n",
       "    }\n",
       "\n",
       "    .dataframe thead th {\n",
       "        text-align: right;\n",
       "    }\n",
       "</style>\n",
       "<table border=\"1\" class=\"dataframe\">\n",
       "  <thead>\n",
       "    <tr style=\"text-align: right;\">\n",
       "      <th></th>\n",
       "      <th>month</th>\n",
       "      <th>month_name</th>\n",
       "      <th>total_orders</th>\n",
       "      <th>last_month_orders</th>\n",
       "    </tr>\n",
       "  </thead>\n",
       "  <tbody>\n",
       "    <tr>\n",
       "      <th>0</th>\n",
       "      <td>1</td>\n",
       "      <td>January</td>\n",
       "      <td>1835</td>\n",
       "      <td>0</td>\n",
       "    </tr>\n",
       "    <tr>\n",
       "      <th>1</th>\n",
       "      <td>2</td>\n",
       "      <td>February</td>\n",
       "      <td>1675</td>\n",
       "      <td>1835</td>\n",
       "    </tr>\n",
       "    <tr>\n",
       "      <th>2</th>\n",
       "      <td>3</td>\n",
       "      <td>March</td>\n",
       "      <td>1833</td>\n",
       "      <td>1675</td>\n",
       "    </tr>\n",
       "  </tbody>\n",
       "</table>\n",
       "</div>"
      ],
      "text/plain": [
       "   month month_name  total_orders  last_month_orders\n",
       "0      1    January          1835                  0\n",
       "1      2   February          1675               1835\n",
       "2      3      March          1833               1675"
      ]
     },
     "execution_count": 55,
     "metadata": {},
     "output_type": "execute_result"
    }
   ],
   "source": [
    "#create a previous month order column\n",
    "prev_mnth =[0]\n",
    "\n",
    "#create a loop\n",
    "x = np.arange(2)\n",
    "for i in x:\n",
    "    prev_mnth.append(month_orders['total_orders'][i])\n",
    "\n",
    "month_orders['last_month_orders'] = prev_mnth\n",
    "month_orders        "
   ]
  },
  {
   "cell_type": "code",
   "execution_count": 56,
   "id": "45f2936c",
   "metadata": {},
   "outputs": [],
   "source": [
    "#creating a MoM Change\n",
    "month_orders['%mom_change'] = round((month_orders['total_orders']- month_orders['last_month_orders'])\n",
    "                                    /month_orders['last_month_orders']*100, 1)"
   ]
  },
  {
   "cell_type": "code",
   "execution_count": 57,
   "id": "129ed452",
   "metadata": {},
   "outputs": [
    {
     "data": {
      "text/html": [
       "<div>\n",
       "<style scoped>\n",
       "    .dataframe tbody tr th:only-of-type {\n",
       "        vertical-align: middle;\n",
       "    }\n",
       "\n",
       "    .dataframe tbody tr th {\n",
       "        vertical-align: top;\n",
       "    }\n",
       "\n",
       "    .dataframe thead th {\n",
       "        text-align: right;\n",
       "    }\n",
       "</style>\n",
       "<table border=\"1\" class=\"dataframe\">\n",
       "  <thead>\n",
       "    <tr style=\"text-align: right;\">\n",
       "      <th></th>\n",
       "      <th>month</th>\n",
       "      <th>month_name</th>\n",
       "      <th>total_orders</th>\n",
       "      <th>last_month_orders</th>\n",
       "      <th>%mom_change</th>\n",
       "    </tr>\n",
       "  </thead>\n",
       "  <tbody>\n",
       "    <tr>\n",
       "      <th>0</th>\n",
       "      <td>1</td>\n",
       "      <td>January</td>\n",
       "      <td>1835</td>\n",
       "      <td>0</td>\n",
       "      <td>inf</td>\n",
       "    </tr>\n",
       "    <tr>\n",
       "      <th>1</th>\n",
       "      <td>2</td>\n",
       "      <td>February</td>\n",
       "      <td>1675</td>\n",
       "      <td>1835</td>\n",
       "      <td>-8.7</td>\n",
       "    </tr>\n",
       "    <tr>\n",
       "      <th>2</th>\n",
       "      <td>3</td>\n",
       "      <td>March</td>\n",
       "      <td>1833</td>\n",
       "      <td>1675</td>\n",
       "      <td>9.4</td>\n",
       "    </tr>\n",
       "  </tbody>\n",
       "</table>\n",
       "</div>"
      ],
      "text/plain": [
       "   month month_name  total_orders  last_month_orders  %mom_change\n",
       "0      1    January          1835                  0          inf\n",
       "1      2   February          1675               1835         -8.7\n",
       "2      3      March          1833               1675          9.4"
      ]
     },
     "execution_count": 57,
     "metadata": {},
     "output_type": "execute_result"
    }
   ],
   "source": [
    "#display the first three rows\n",
    "month_orders"
   ]
  },
  {
   "cell_type": "code",
   "execution_count": 59,
   "id": "8f692189",
   "metadata": {},
   "outputs": [
    {
     "data": {
      "image/png": "[encoded data removed]",
      "text/plain": [
       "<Figure size 400x200 with 1 Axes>"
      ]
     },
     "metadata": {},
     "output_type": "display_data"
    }
   ],
   "source": [
    "#plotting the total orders by month\n",
    "fig, ax = plt.subplots(figsize=[4,2])\n",
    "\n",
    "ax.bar(x=month_orders['month_name'], height=month_orders['%mom_change'])\n",
    "\n",
    "#remove spines and y-axis\n",
    "sns.despine(left=True)\n",
    "ax.yaxis.set_visible(False)\n",
    "\n",
    "#add title\n",
    "#ax.set_title('% MoM change in Orders')\n",
    "\n",
    "for index, value in enumerate(month_orders['%mom_change']):\n",
    "    ax.annotate(str(value)+'%', xy=(index, value+0.8), va='center', ha='center')\n",
    "plt.show()"
   ]
  },
  {
   "cell_type": "markdown",
   "id": "bdc32abf",
   "metadata": {},
   "source": [
    "- There is a 8.7% decrease in order in the month of febuary, but the order rose by 9.4% in March"
   ]
  },
  {
   "cell_type": "markdown",
   "id": "02b86ecd",
   "metadata": {},
   "source": [
    "### Which item is ordered most and least? \n",
    "### What Category does it belong?"
   ]
  },
  {
   "cell_type": "markdown",
   "id": "7293f15c",
   "metadata": {},
   "source": [
    "### Top 10 Most Ordered menu item"
   ]
  },
  {
   "cell_type": "code",
   "execution_count": 61,
   "id": "601e6eeb",
   "metadata": {
    "scrolled": true
   },
   "outputs": [
    {
     "data": {
      "text/html": [
       "<div>\n",
       "<style scoped>\n",
       "    .dataframe tbody tr th:only-of-type {\n",
       "        vertical-align: middle;\n",
       "    }\n",
       "\n",
       "    .dataframe tbody tr th {\n",
       "        vertical-align: top;\n",
       "    }\n",
       "\n",
       "    .dataframe thead th {\n",
       "        text-align: right;\n",
       "    }\n",
       "</style>\n",
       "<table border=\"1\" class=\"dataframe\">\n",
       "  <thead>\n",
       "    <tr style=\"text-align: right;\">\n",
       "      <th></th>\n",
       "      <th>item_name</th>\n",
       "      <th>category</th>\n",
       "      <th>total_orders</th>\n",
       "    </tr>\n",
       "  </thead>\n",
       "  <tbody>\n",
       "    <tr>\n",
       "      <th>14</th>\n",
       "      <td>Hamburger</td>\n",
       "      <td>American</td>\n",
       "      <td>622</td>\n",
       "    </tr>\n",
       "    <tr>\n",
       "      <th>10</th>\n",
       "      <td>Edamame</td>\n",
       "      <td>Asian</td>\n",
       "      <td>620</td>\n",
       "    </tr>\n",
       "    <tr>\n",
       "      <th>16</th>\n",
       "      <td>Korean Beef Bowl</td>\n",
       "      <td>Asian</td>\n",
       "      <td>588</td>\n",
       "    </tr>\n",
       "    <tr>\n",
       "      <th>3</th>\n",
       "      <td>Cheeseburger</td>\n",
       "      <td>American</td>\n",
       "      <td>583</td>\n",
       "    </tr>\n",
       "    <tr>\n",
       "      <th>13</th>\n",
       "      <td>French Fries</td>\n",
       "      <td>American</td>\n",
       "      <td>571</td>\n",
       "    </tr>\n",
       "    <tr>\n",
       "      <th>30</th>\n",
       "      <td>Tofu Pad Thai</td>\n",
       "      <td>Asian</td>\n",
       "      <td>562</td>\n",
       "    </tr>\n",
       "    <tr>\n",
       "      <th>29</th>\n",
       "      <td>Steak Torta</td>\n",
       "      <td>Mexican</td>\n",
       "      <td>489</td>\n",
       "    </tr>\n",
       "    <tr>\n",
       "      <th>26</th>\n",
       "      <td>Spaghetti &amp; Meatballs</td>\n",
       "      <td>Italian</td>\n",
       "      <td>470</td>\n",
       "    </tr>\n",
       "    <tr>\n",
       "      <th>17</th>\n",
       "      <td>Mac &amp; Cheese</td>\n",
       "      <td>American</td>\n",
       "      <td>463</td>\n",
       "    </tr>\n",
       "    <tr>\n",
       "      <th>9</th>\n",
       "      <td>Chips &amp; Salsa</td>\n",
       "      <td>Mexican</td>\n",
       "      <td>461</td>\n",
       "    </tr>\n",
       "  </tbody>\n",
       "</table>\n",
       "</div>"
      ],
      "text/plain": [
       "                item_name  category  total_orders\n",
       "14              Hamburger  American           622\n",
       "10                Edamame     Asian           620\n",
       "16       Korean Beef Bowl     Asian           588\n",
       "3            Cheeseburger  American           583\n",
       "13           French Fries  American           571\n",
       "30          Tofu Pad Thai     Asian           562\n",
       "29            Steak Torta   Mexican           489\n",
       "26  Spaghetti & Meatballs   Italian           470\n",
       "17           Mac & Cheese  American           463\n",
       "9           Chips & Salsa   Mexican           461"
      ]
     },
     "execution_count": 61,
     "metadata": {},
     "output_type": "execute_result"
    }
   ],
   "source": [
    "#to get the top 10 most ordered items\n",
    "top_10_ordered_items = (df.groupby(['item_name', 'category'], as_index=False)\n",
    "                            .agg(total_orders=('order_id', 'count'))\n",
    "                            .sort_values('total_orders', ascending=False).head(10))\n",
    "top_10_ordered_items"
   ]
  },
  {
   "cell_type": "markdown",
   "id": "e74c4cd0",
   "metadata": {},
   "source": [
    "### Monthly Orders of the top 5"
   ]
  },
  {
   "cell_type": "code",
   "execution_count": 175,
   "id": "b175ffed",
   "metadata": {},
   "outputs": [
    {
     "data": {
      "text/html": [
       "<div>\n",
       "<style scoped>\n",
       "    .dataframe tbody tr th:only-of-type {\n",
       "        vertical-align: middle;\n",
       "    }\n",
       "\n",
       "    .dataframe tbody tr th {\n",
       "        vertical-align: top;\n",
       "    }\n",
       "\n",
       "    .dataframe thead th {\n",
       "        text-align: right;\n",
       "    }\n",
       "</style>\n",
       "<table border=\"1\" class=\"dataframe\">\n",
       "  <thead>\n",
       "    <tr style=\"text-align: right;\">\n",
       "      <th>month</th>\n",
       "      <th>1</th>\n",
       "      <th>2</th>\n",
       "      <th>3</th>\n",
       "      <th>total</th>\n",
       "    </tr>\n",
       "    <tr>\n",
       "      <th>item_name</th>\n",
       "      <th></th>\n",
       "      <th></th>\n",
       "      <th></th>\n",
       "      <th></th>\n",
       "    </tr>\n",
       "  </thead>\n",
       "  <tbody>\n",
       "    <tr>\n",
       "      <th>Hamburger</th>\n",
       "      <td>206</td>\n",
       "      <td>187</td>\n",
       "      <td>229</td>\n",
       "      <td>622</td>\n",
       "    </tr>\n",
       "    <tr>\n",
       "      <th>Edamame</th>\n",
       "      <td>235</td>\n",
       "      <td>201</td>\n",
       "      <td>184</td>\n",
       "      <td>620</td>\n",
       "    </tr>\n",
       "    <tr>\n",
       "      <th>Korean Beef Bowl</th>\n",
       "      <td>182</td>\n",
       "      <td>194</td>\n",
       "      <td>212</td>\n",
       "      <td>588</td>\n",
       "    </tr>\n",
       "    <tr>\n",
       "      <th>Cheeseburger</th>\n",
       "      <td>197</td>\n",
       "      <td>200</td>\n",
       "      <td>186</td>\n",
       "      <td>583</td>\n",
       "    </tr>\n",
       "    <tr>\n",
       "      <th>French Fries</th>\n",
       "      <td>197</td>\n",
       "      <td>164</td>\n",
       "      <td>210</td>\n",
       "      <td>571</td>\n",
       "    </tr>\n",
       "  </tbody>\n",
       "</table>\n",
       "</div>"
      ],
      "text/plain": [
       "month               1    2    3  total\n",
       "item_name                             \n",
       "Hamburger         206  187  229    622\n",
       "Edamame           235  201  184    620\n",
       "Korean Beef Bowl  182  194  212    588\n",
       "Cheeseburger      197  200  186    583\n",
       "French Fries      197  164  210    571"
      ]
     },
     "execution_count": 175,
     "metadata": {},
     "output_type": "execute_result"
    }
   ],
   "source": [
    "mmm = df.pivot_table(index='item_name', columns='month', values='order_id', aggfunc='count')\n",
    "mmm['total'] = mmm[1]+mmm[2]+mmm[3]\n",
    "mmm = mmm.sort_values('total', ascending=False)\n",
    "mmm.head(5)"
   ]
  },
  {
   "cell_type": "markdown",
   "id": "5f934d4c",
   "metadata": {},
   "source": [
    "### Most ordered item"
   ]
  },
  {
   "cell_type": "code",
   "execution_count": 91,
   "id": "954b4a4a",
   "metadata": {},
   "outputs": [
    {
     "data": {
      "text/html": [
       "<div>\n",
       "<style scoped>\n",
       "    .dataframe tbody tr th:only-of-type {\n",
       "        vertical-align: middle;\n",
       "    }\n",
       "\n",
       "    .dataframe tbody tr th {\n",
       "        vertical-align: top;\n",
       "    }\n",
       "\n",
       "    .dataframe thead th {\n",
       "        text-align: right;\n",
       "    }\n",
       "</style>\n",
       "<table border=\"1\" class=\"dataframe\">\n",
       "  <thead>\n",
       "    <tr style=\"text-align: right;\">\n",
       "      <th></th>\n",
       "      <th>item_name</th>\n",
       "      <th>category</th>\n",
       "      <th>total_orders</th>\n",
       "    </tr>\n",
       "  </thead>\n",
       "  <tbody>\n",
       "    <tr>\n",
       "      <th>14</th>\n",
       "      <td>Hamburger</td>\n",
       "      <td>American</td>\n",
       "      <td>622</td>\n",
       "    </tr>\n",
       "  </tbody>\n",
       "</table>\n",
       "</div>"
      ],
      "text/plain": [
       "    item_name  category  total_orders\n",
       "14  Hamburger  American           622"
      ]
     },
     "execution_count": 91,
     "metadata": {},
     "output_type": "execute_result"
    }
   ],
   "source": [
    "#To get the most ordered menu item\n",
    "top_1_ordered_items = (df.groupby(['item_name', 'category'], as_index=False)\n",
    "                            .agg(total_orders=('order_id', 'count'))\n",
    "                            .sort_values('total_orders', ascending=False).head(1))\n",
    "top_1_ordered_items"
   ]
  },
  {
   "cell_type": "markdown",
   "id": "f5360417",
   "metadata": {},
   "source": [
    "- The most ordered item is **Hamburger**"
   ]
  },
  {
   "cell_type": "markdown",
   "id": "187314af",
   "metadata": {},
   "source": [
    "### Least 5 ordered menu items"
   ]
  },
  {
   "cell_type": "code",
   "execution_count": 92,
   "id": "c42b2329",
   "metadata": {},
   "outputs": [
    {
     "data": {
      "text/html": [
       "<div>\n",
       "<style scoped>\n",
       "    .dataframe tbody tr th:only-of-type {\n",
       "        vertical-align: middle;\n",
       "    }\n",
       "\n",
       "    .dataframe tbody tr th {\n",
       "        vertical-align: top;\n",
       "    }\n",
       "\n",
       "    .dataframe thead th {\n",
       "        text-align: right;\n",
       "    }\n",
       "</style>\n",
       "<table border=\"1\" class=\"dataframe\">\n",
       "  <thead>\n",
       "    <tr style=\"text-align: right;\">\n",
       "      <th></th>\n",
       "      <th>item_name</th>\n",
       "      <th>category</th>\n",
       "      <th>total_orders</th>\n",
       "    </tr>\n",
       "  </thead>\n",
       "  <tbody>\n",
       "    <tr>\n",
       "      <th>2</th>\n",
       "      <td>Cheese Quesadillas</td>\n",
       "      <td>Mexican</td>\n",
       "      <td>233</td>\n",
       "    </tr>\n",
       "    <tr>\n",
       "      <th>28</th>\n",
       "      <td>Steak Tacos</td>\n",
       "      <td>Mexican</td>\n",
       "      <td>214</td>\n",
       "    </tr>\n",
       "    <tr>\n",
       "      <th>1</th>\n",
       "      <td>Cheese Lasagna</td>\n",
       "      <td>Italian</td>\n",
       "      <td>207</td>\n",
       "    </tr>\n",
       "    <tr>\n",
       "      <th>22</th>\n",
       "      <td>Potstickers</td>\n",
       "      <td>Asian</td>\n",
       "      <td>205</td>\n",
       "    </tr>\n",
       "    <tr>\n",
       "      <th>6</th>\n",
       "      <td>Chicken Tacos</td>\n",
       "      <td>Mexican</td>\n",
       "      <td>123</td>\n",
       "    </tr>\n",
       "  </tbody>\n",
       "</table>\n",
       "</div>"
      ],
      "text/plain": [
       "             item_name category  total_orders\n",
       "2   Cheese Quesadillas  Mexican           233\n",
       "28         Steak Tacos  Mexican           214\n",
       "1       Cheese Lasagna  Italian           207\n",
       "22         Potstickers    Asian           205\n",
       "6        Chicken Tacos  Mexican           123"
      ]
     },
     "execution_count": 92,
     "metadata": {},
     "output_type": "execute_result"
    }
   ],
   "source": [
    "#To get the least five ordered menu \n",
    "least_5_ordered_items = (df.groupby(['item_name', 'category'], as_index=False)\n",
    "                            .agg(total_orders=('order_id', 'count'))\n",
    "                            .sort_values('total_orders', ascending=False).tail(5))\n",
    "least_5_ordered_items"
   ]
  },
  {
   "cell_type": "markdown",
   "id": "9854be78",
   "metadata": {},
   "source": [
    "### The least ordered item"
   ]
  },
  {
   "cell_type": "code",
   "execution_count": 93,
   "id": "e849af00",
   "metadata": {},
   "outputs": [
    {
     "data": {
      "text/html": [
       "<div>\n",
       "<style scoped>\n",
       "    .dataframe tbody tr th:only-of-type {\n",
       "        vertical-align: middle;\n",
       "    }\n",
       "\n",
       "    .dataframe tbody tr th {\n",
       "        vertical-align: top;\n",
       "    }\n",
       "\n",
       "    .dataframe thead th {\n",
       "        text-align: right;\n",
       "    }\n",
       "</style>\n",
       "<table border=\"1\" class=\"dataframe\">\n",
       "  <thead>\n",
       "    <tr style=\"text-align: right;\">\n",
       "      <th></th>\n",
       "      <th>item_name</th>\n",
       "      <th>category</th>\n",
       "      <th>total_orders</th>\n",
       "    </tr>\n",
       "  </thead>\n",
       "  <tbody>\n",
       "    <tr>\n",
       "      <th>6</th>\n",
       "      <td>Chicken Tacos</td>\n",
       "      <td>Mexican</td>\n",
       "      <td>123</td>\n",
       "    </tr>\n",
       "  </tbody>\n",
       "</table>\n",
       "</div>"
      ],
      "text/plain": [
       "       item_name category  total_orders\n",
       "6  Chicken Tacos  Mexican           123"
      ]
     },
     "execution_count": 93,
     "metadata": {},
     "output_type": "execute_result"
    }
   ],
   "source": [
    "#To get the least ordered menu\n",
    "least_ordered_items = (df.groupby(['item_name', 'category'], as_index=False)\n",
    "                            .agg(total_orders=('order_id', 'count'))\n",
    "                            .sort_values('total_orders', ascending=False).tail(1))\n",
    "least_ordered_items"
   ]
  },
  {
   "cell_type": "markdown",
   "id": "a9df7c29",
   "metadata": {},
   "source": [
    "- The least ordered menu item is **Chicken Tacos**"
   ]
  },
  {
   "cell_type": "markdown",
   "id": "376e0ed2",
   "metadata": {},
   "source": [
    "### Orders by Category"
   ]
  },
  {
   "cell_type": "code",
   "execution_count": 94,
   "id": "8af4b1cc",
   "metadata": {},
   "outputs": [
    {
     "data": {
      "text/html": [
       "<div>\n",
       "<style scoped>\n",
       "    .dataframe tbody tr th:only-of-type {\n",
       "        vertical-align: middle;\n",
       "    }\n",
       "\n",
       "    .dataframe tbody tr th {\n",
       "        vertical-align: top;\n",
       "    }\n",
       "\n",
       "    .dataframe thead th {\n",
       "        text-align: right;\n",
       "    }\n",
       "</style>\n",
       "<table border=\"1\" class=\"dataframe\">\n",
       "  <thead>\n",
       "    <tr style=\"text-align: right;\">\n",
       "      <th></th>\n",
       "      <th>category</th>\n",
       "      <th>total_orders</th>\n",
       "    </tr>\n",
       "  </thead>\n",
       "  <tbody>\n",
       "    <tr>\n",
       "      <th>1</th>\n",
       "      <td>Asian</td>\n",
       "      <td>3470</td>\n",
       "    </tr>\n",
       "    <tr>\n",
       "      <th>2</th>\n",
       "      <td>Italian</td>\n",
       "      <td>2948</td>\n",
       "    </tr>\n",
       "    <tr>\n",
       "      <th>3</th>\n",
       "      <td>Mexican</td>\n",
       "      <td>2945</td>\n",
       "    </tr>\n",
       "    <tr>\n",
       "      <th>0</th>\n",
       "      <td>American</td>\n",
       "      <td>2734</td>\n",
       "    </tr>\n",
       "  </tbody>\n",
       "</table>\n",
       "</div>"
      ],
      "text/plain": [
       "   category  total_orders\n",
       "1     Asian          3470\n",
       "2   Italian          2948\n",
       "3   Mexican          2945\n",
       "0  American          2734"
      ]
     },
     "execution_count": 94,
     "metadata": {},
     "output_type": "execute_result"
    }
   ],
   "source": [
    "#To get the total orders by category\n",
    "cat_order = (df.groupby(['category'], as_index=False).agg(total_orders=('order_id', 'count'))\n",
    "                 .sort_values('total_orders', ascending=False))\n",
    "cat_order"
   ]
  },
  {
   "cell_type": "code",
   "execution_count": 96,
   "id": "4130776f",
   "metadata": {},
   "outputs": [
    {
     "data": {
      "image/png": "[encoded data removed]",
      "text/plain": [
       "<Figure size 500x300 with 1 Axes>"
      ]
     },
     "metadata": {},
     "output_type": "display_data"
    }
   ],
   "source": [
    "#plotting a bar chart of the orders by category\n",
    "fig, ax = plt.subplots(figsize=[5,3])\n",
    "sns.barplot(data=cat_order, x='category', y='total_orders')\n",
    "\n",
    "#add title\n",
    "ax.set_title('Orders by Category')\n",
    "\n",
    "#remove spines and y-axis\n",
    "sns.despine(left=True)\n",
    "ax.yaxis.set_visible(False)\n",
    "\n",
    "#add annotation\n",
    "for index, values in enumerate(cat_order['total_orders']):\n",
    "    ax.annotate(values, xy=(index, values+90), ha='center', va='center')\n",
    "\n",
    "plt.show()"
   ]
  },
  {
   "cell_type": "markdown",
   "id": "bd13060b",
   "metadata": {},
   "source": [
    "### Menu items by category"
   ]
  },
  {
   "cell_type": "code",
   "execution_count": 97,
   "id": "7a3ae815",
   "metadata": {
    "code_folding": []
   },
   "outputs": [
    {
     "data": {
      "text/html": [
       "<div>\n",
       "<style scoped>\n",
       "    .dataframe tbody tr th:only-of-type {\n",
       "        vertical-align: middle;\n",
       "    }\n",
       "\n",
       "    .dataframe tbody tr th {\n",
       "        vertical-align: top;\n",
       "    }\n",
       "\n",
       "    .dataframe thead th {\n",
       "        text-align: right;\n",
       "    }\n",
       "</style>\n",
       "<table border=\"1\" class=\"dataframe\">\n",
       "  <thead>\n",
       "    <tr style=\"text-align: right;\">\n",
       "      <th></th>\n",
       "      <th>category</th>\n",
       "      <th>total_menus</th>\n",
       "    </tr>\n",
       "  </thead>\n",
       "  <tbody>\n",
       "    <tr>\n",
       "      <th>2</th>\n",
       "      <td>Italian</td>\n",
       "      <td>9</td>\n",
       "    </tr>\n",
       "    <tr>\n",
       "      <th>3</th>\n",
       "      <td>Mexican</td>\n",
       "      <td>9</td>\n",
       "    </tr>\n",
       "    <tr>\n",
       "      <th>1</th>\n",
       "      <td>Asian</td>\n",
       "      <td>8</td>\n",
       "    </tr>\n",
       "    <tr>\n",
       "      <th>0</th>\n",
       "      <td>American</td>\n",
       "      <td>6</td>\n",
       "    </tr>\n",
       "  </tbody>\n",
       "</table>\n",
       "</div>"
      ],
      "text/plain": [
       "   category  total_menus\n",
       "2   Italian            9\n",
       "3   Mexican            9\n",
       "1     Asian            8\n",
       "0  American            6"
      ]
     },
     "execution_count": 97,
     "metadata": {},
     "output_type": "execute_result"
    }
   ],
   "source": [
    "#getting the number of menus in each category\n",
    "menu_by_cat = (df.groupby(['category'], as_index=False).agg(total_menus=('item_name', 'nunique'))\n",
    "                    .sort_values('total_menus', ascending=False))\n",
    "menu_by_cat"
   ]
  },
  {
   "cell_type": "code",
   "execution_count": 98,
   "id": "60425d8c",
   "metadata": {},
   "outputs": [
    {
     "data": {
      "image/png": "[encoded data removed]",
      "text/plain": [
       "<Figure size 500x300 with 1 Axes>"
      ]
     },
     "metadata": {},
     "output_type": "display_data"
    }
   ],
   "source": [
    "#plotting a bar chart of the number of menus by category\n",
    "fig, ax = plt.subplots(figsize=[5,3])\n",
    "ax.bar(x=menu_by_cat['category'], height=menu_by_cat['total_menus'])\n",
    "\n",
    "#add title\n",
    "ax.set_title('Number of Menus by Category')\n",
    "\n",
    "#remove spines and y-axis\n",
    "sns.despine(left=True)\n",
    "ax.yaxis.set_visible(False)\n",
    "\n",
    "#add annotation\n",
    "for index, values in enumerate(menu_by_cat['total_menus']):\n",
    "    ax.annotate(values, xy=(index, values+0.2), ha='center', va='center')\n",
    "\n",
    "plt.show()"
   ]
  },
  {
   "cell_type": "markdown",
   "id": "4160003b",
   "metadata": {},
   "source": [
    "## Hourly Orders"
   ]
  },
  {
   "cell_type": "code",
   "execution_count": 99,
   "id": "111e0da2",
   "metadata": {},
   "outputs": [
    {
     "data": {
      "text/html": [
       "<div>\n",
       "<style scoped>\n",
       "    .dataframe tbody tr th:only-of-type {\n",
       "        vertical-align: middle;\n",
       "    }\n",
       "\n",
       "    .dataframe tbody tr th {\n",
       "        vertical-align: top;\n",
       "    }\n",
       "\n",
       "    .dataframe thead th {\n",
       "        text-align: right;\n",
       "    }\n",
       "</style>\n",
       "<table border=\"1\" class=\"dataframe\">\n",
       "  <thead>\n",
       "    <tr style=\"text-align: right;\">\n",
       "      <th></th>\n",
       "      <th>hour</th>\n",
       "      <th>total_orders</th>\n",
       "    </tr>\n",
       "  </thead>\n",
       "  <tbody>\n",
       "    <tr>\n",
       "      <th>0</th>\n",
       "      <td>10</td>\n",
       "      <td>2</td>\n",
       "    </tr>\n",
       "    <tr>\n",
       "      <th>1</th>\n",
       "      <td>11</td>\n",
       "      <td>286</td>\n",
       "    </tr>\n",
       "    <tr>\n",
       "      <th>2</th>\n",
       "      <td>12</td>\n",
       "      <td>644</td>\n",
       "    </tr>\n",
       "    <tr>\n",
       "      <th>3</th>\n",
       "      <td>13</td>\n",
       "      <td>590</td>\n",
       "    </tr>\n",
       "    <tr>\n",
       "      <th>4</th>\n",
       "      <td>14</td>\n",
       "      <td>423</td>\n",
       "    </tr>\n",
       "    <tr>\n",
       "      <th>5</th>\n",
       "      <td>15</td>\n",
       "      <td>354</td>\n",
       "    </tr>\n",
       "    <tr>\n",
       "      <th>6</th>\n",
       "      <td>16</td>\n",
       "      <td>479</td>\n",
       "    </tr>\n",
       "    <tr>\n",
       "      <th>7</th>\n",
       "      <td>17</td>\n",
       "      <td>618</td>\n",
       "    </tr>\n",
       "    <tr>\n",
       "      <th>8</th>\n",
       "      <td>18</td>\n",
       "      <td>595</td>\n",
       "    </tr>\n",
       "    <tr>\n",
       "      <th>9</th>\n",
       "      <td>19</td>\n",
       "      <td>497</td>\n",
       "    </tr>\n",
       "    <tr>\n",
       "      <th>10</th>\n",
       "      <td>20</td>\n",
       "      <td>411</td>\n",
       "    </tr>\n",
       "    <tr>\n",
       "      <th>11</th>\n",
       "      <td>21</td>\n",
       "      <td>289</td>\n",
       "    </tr>\n",
       "    <tr>\n",
       "      <th>12</th>\n",
       "      <td>22</td>\n",
       "      <td>151</td>\n",
       "    </tr>\n",
       "    <tr>\n",
       "      <th>13</th>\n",
       "      <td>23</td>\n",
       "      <td>4</td>\n",
       "    </tr>\n",
       "  </tbody>\n",
       "</table>\n",
       "</div>"
      ],
      "text/plain": [
       "    hour  total_orders\n",
       "0     10             2\n",
       "1     11           286\n",
       "2     12           644\n",
       "3     13           590\n",
       "4     14           423\n",
       "5     15           354\n",
       "6     16           479\n",
       "7     17           618\n",
       "8     18           595\n",
       "9     19           497\n",
       "10    20           411\n",
       "11    21           289\n",
       "12    22           151\n",
       "13    23             4"
      ]
     },
     "execution_count": 99,
     "metadata": {},
     "output_type": "execute_result"
    }
   ],
   "source": [
    "#creating the hourly orders dataframe\n",
    "hourly_orders = df.groupby(['hour'], as_index=False).agg(total_orders=('order_id', 'nunique'))\n",
    "hourly_orders"
   ]
  },
  {
   "cell_type": "markdown",
   "id": "81468eae",
   "metadata": {},
   "source": [
    "## Hourly order trend"
   ]
  },
  {
   "cell_type": "code",
   "execution_count": 100,
   "id": "508c306a",
   "metadata": {},
   "outputs": [
    {
     "data": {
      "image/png": "[encoded data removed]",
      "text/plain": [
       "<Figure size 800x300 with 1 Axes>"
      ]
     },
     "metadata": {},
     "output_type": "display_data"
    }
   ],
   "source": [
    "#plotting an hourly orders\n",
    "fig, ax = plt.subplots(figsize=[8,3])\n",
    "\n",
    "ax.plot(hourly_orders['hour'], hourly_orders['total_orders'])\n",
    "\n",
    "#remove spine\n",
    "sns.despine()\n",
    "\n",
    "#add title\n",
    "ax.set_title('Hourly Order Trend')\n",
    "\n",
    "plt.show()"
   ]
  },
  {
   "cell_type": "markdown",
   "id": "72476111",
   "metadata": {},
   "source": [
    "- The peak hour sales are 12pm, 1pm, 5pm and 6pm"
   ]
  },
  {
   "cell_type": "markdown",
   "id": "2003d6c2",
   "metadata": {},
   "source": [
    "### Each month order hour trend"
   ]
  },
  {
   "cell_type": "code",
   "execution_count": 101,
   "id": "e785852d",
   "metadata": {},
   "outputs": [],
   "source": [
    "#summarize using pivot table\n",
    "each_mnth = df.pivot_table(index='hour', columns='month', values='order_id', aggfunc='nunique')"
   ]
  },
  {
   "cell_type": "code",
   "execution_count": 102,
   "id": "00770044",
   "metadata": {},
   "outputs": [
    {
     "data": {
      "image/png": "[encoded data removed]",
      "text/plain": [
       "<Figure size 800x300 with 1 Axes>"
      ]
     },
     "metadata": {},
     "output_type": "display_data"
    }
   ],
   "source": [
    "#plotting an hourly orders\n",
    "fig, ax = plt.subplots(figsize=[8,3])\n",
    "\n",
    "ax.plot(each_mnth.index, each_mnth[1], label='Jan')\n",
    "ax.plot(each_mnth.index, each_mnth[2], label='Feb')\n",
    "ax.plot(each_mnth.index, each_mnth[3], label='Mar')\n",
    "\n",
    "ax.legend()\n",
    "ax.set_title('Hourly Order trend by Month')\n",
    "plt.show()"
   ]
  },
  {
   "cell_type": "markdown",
   "id": "0cc94257",
   "metadata": {},
   "source": [
    "- Similiar Trends is occured in the order hours for each month. 12pm and 1pm had the highest orders\n",
    "- The month of March had the highest order at these time periods"
   ]
  },
  {
   "cell_type": "markdown",
   "id": "54322365",
   "metadata": {},
   "source": [
    "## Total Spends by Customers"
   ]
  },
  {
   "cell_type": "code",
   "execution_count": 119,
   "id": "1d4be795",
   "metadata": {},
   "outputs": [],
   "source": [
    "#To get the top five customers that spend most and which items\n",
    "top_5_spend_by_customers = (df.groupby(['order_id'], as_index=False)\n",
    "                                .agg(total_menus=('order_id', 'count'),total_spends=('price', 'sum'))\n",
    "                                .sort_values('total_spends', ascending=False)\n",
    "                                .head())\n",
    "top_5_spend_by_customers['order_id'] = top_5_spend_by_customers['order_id'].astype('str')"
   ]
  },
  {
   "cell_type": "code",
   "execution_count": 124,
   "id": "9e0995b0",
   "metadata": {},
   "outputs": [
    {
     "data": {
      "text/html": [
       "<div>\n",
       "<style scoped>\n",
       "    .dataframe tbody tr th:only-of-type {\n",
       "        vertical-align: middle;\n",
       "    }\n",
       "\n",
       "    .dataframe tbody tr th {\n",
       "        vertical-align: top;\n",
       "    }\n",
       "\n",
       "    .dataframe thead th {\n",
       "        text-align: right;\n",
       "    }\n",
       "</style>\n",
       "<table border=\"1\" class=\"dataframe\">\n",
       "  <thead>\n",
       "    <tr style=\"text-align: right;\">\n",
       "      <th></th>\n",
       "      <th>order_id</th>\n",
       "      <th>total_menus</th>\n",
       "      <th>total_spends</th>\n",
       "    </tr>\n",
       "  </thead>\n",
       "  <tbody>\n",
       "    <tr>\n",
       "      <th>435</th>\n",
       "      <td>440</td>\n",
       "      <td>14</td>\n",
       "      <td>192.15</td>\n",
       "    </tr>\n",
       "    <tr>\n",
       "      <th>2064</th>\n",
       "      <td>2075</td>\n",
       "      <td>13</td>\n",
       "      <td>191.05</td>\n",
       "    </tr>\n",
       "    <tr>\n",
       "      <th>1946</th>\n",
       "      <td>1957</td>\n",
       "      <td>14</td>\n",
       "      <td>190.10</td>\n",
       "    </tr>\n",
       "    <tr>\n",
       "      <th>325</th>\n",
       "      <td>330</td>\n",
       "      <td>14</td>\n",
       "      <td>189.70</td>\n",
       "    </tr>\n",
       "    <tr>\n",
       "      <th>2658</th>\n",
       "      <td>2675</td>\n",
       "      <td>14</td>\n",
       "      <td>185.10</td>\n",
       "    </tr>\n",
       "  </tbody>\n",
       "</table>\n",
       "</div>"
      ],
      "text/plain": [
       "     order_id  total_menus  total_spends\n",
       "435       440           14        192.15\n",
       "2064     2075           13        191.05\n",
       "1946     1957           14        190.10\n",
       "325       330           14        189.70\n",
       "2658     2675           14        185.10"
      ]
     },
     "execution_count": 124,
     "metadata": {},
     "output_type": "execute_result"
    }
   ],
   "source": [
    "top_5_spend_by_customers"
   ]
  },
  {
   "cell_type": "code",
   "execution_count": 156,
   "id": "e00051d0",
   "metadata": {},
   "outputs": [
    {
     "data": {
      "image/png": "[encoded data removed]",
      "text/plain": [
       "<Figure size 800x400 with 2 Axes>"
      ]
     },
     "metadata": {},
     "output_type": "display_data"
    }
   ],
   "source": [
    "#plotting a bar chart of number of orders placed by category by the high spent customers\n",
    "fig, ax = plt.subplots(figsize=[8,4])\n",
    "ax.bar(x=top_5_spend_by_customers['order_id'], height=top_5_spend_by_customers['total_spends'], alpha=0.5)\n",
    "\n",
    "ax1 = ax.twinx()\n",
    "\n",
    "ax1.plot(top_5_spend_by_customers['order_id'] ,top_5_spend_by_customers['total_menus'], alpha=0.6, color='crimson')\n",
    "\n",
    "#add label\n",
    "ax.set_ylabel('Total Spends ($)')\n",
    "ax1.set_ylabel('Total Menus Ordered')\n",
    "ax.set_yticks([])\n",
    "sns.despine(left=False, right=False)\n",
    "ax.set_xlabel('Order ID')\n",
    "ax1.tick_params(axis='y', labelcolor='crimson')\n",
    "\n",
    "ax.set_title('Top 5 Spends and quantity of menu')\n",
    "\n",
    "for i, v in enumerate(top_5_spend_by_customers['total_spends']):\n",
    "    ax.annotate('$'+str(round(v, 1)), xy=(i, v-20), ha='center', va='center')\n",
    "plt.show()"
   ]
  },
  {
   "cell_type": "markdown",
   "id": "83e0bc16",
   "metadata": {},
   "source": [
    "- The top 5 highest spend orders were between $185 - $192.\n",
    "\n",
    "- Each of the four top spend orders contain 14 menus items, while one had 13 menus\n"
   ]
  },
  {
   "cell_type": "code",
   "execution_count": 157,
   "id": "e8fed9ad",
   "metadata": {},
   "outputs": [
    {
     "data": {
      "text/html": [
       "<div>\n",
       "<style scoped>\n",
       "    .dataframe tbody tr th:only-of-type {\n",
       "        vertical-align: middle;\n",
       "    }\n",
       "\n",
       "    .dataframe tbody tr th {\n",
       "        vertical-align: top;\n",
       "    }\n",
       "\n",
       "    .dataframe thead th {\n",
       "        text-align: right;\n",
       "    }\n",
       "</style>\n",
       "<table border=\"1\" class=\"dataframe\">\n",
       "  <thead>\n",
       "    <tr style=\"text-align: right;\">\n",
       "      <th></th>\n",
       "      <th>order_id</th>\n",
       "      <th>category</th>\n",
       "      <th>total_orders</th>\n",
       "    </tr>\n",
       "  </thead>\n",
       "  <tbody>\n",
       "    <tr>\n",
       "      <th>0</th>\n",
       "      <td>330</td>\n",
       "      <td>American</td>\n",
       "      <td>1</td>\n",
       "    </tr>\n",
       "    <tr>\n",
       "      <th>1</th>\n",
       "      <td>330</td>\n",
       "      <td>Asian</td>\n",
       "      <td>6</td>\n",
       "    </tr>\n",
       "    <tr>\n",
       "      <th>2</th>\n",
       "      <td>330</td>\n",
       "      <td>Italian</td>\n",
       "      <td>3</td>\n",
       "    </tr>\n",
       "    <tr>\n",
       "      <th>3</th>\n",
       "      <td>330</td>\n",
       "      <td>Mexican</td>\n",
       "      <td>4</td>\n",
       "    </tr>\n",
       "    <tr>\n",
       "      <th>4</th>\n",
       "      <td>440</td>\n",
       "      <td>American</td>\n",
       "      <td>2</td>\n",
       "    </tr>\n",
       "    <tr>\n",
       "      <th>5</th>\n",
       "      <td>440</td>\n",
       "      <td>Asian</td>\n",
       "      <td>2</td>\n",
       "    </tr>\n",
       "    <tr>\n",
       "      <th>6</th>\n",
       "      <td>440</td>\n",
       "      <td>Italian</td>\n",
       "      <td>8</td>\n",
       "    </tr>\n",
       "    <tr>\n",
       "      <th>7</th>\n",
       "      <td>440</td>\n",
       "      <td>Mexican</td>\n",
       "      <td>2</td>\n",
       "    </tr>\n",
       "    <tr>\n",
       "      <th>8</th>\n",
       "      <td>1957</td>\n",
       "      <td>American</td>\n",
       "      <td>3</td>\n",
       "    </tr>\n",
       "    <tr>\n",
       "      <th>9</th>\n",
       "      <td>1957</td>\n",
       "      <td>Asian</td>\n",
       "      <td>3</td>\n",
       "    </tr>\n",
       "    <tr>\n",
       "      <th>10</th>\n",
       "      <td>1957</td>\n",
       "      <td>Italian</td>\n",
       "      <td>5</td>\n",
       "    </tr>\n",
       "    <tr>\n",
       "      <th>11</th>\n",
       "      <td>1957</td>\n",
       "      <td>Mexican</td>\n",
       "      <td>3</td>\n",
       "    </tr>\n",
       "    <tr>\n",
       "      <th>12</th>\n",
       "      <td>2075</td>\n",
       "      <td>American</td>\n",
       "      <td>1</td>\n",
       "    </tr>\n",
       "    <tr>\n",
       "      <th>13</th>\n",
       "      <td>2075</td>\n",
       "      <td>Asian</td>\n",
       "      <td>3</td>\n",
       "    </tr>\n",
       "    <tr>\n",
       "      <th>14</th>\n",
       "      <td>2075</td>\n",
       "      <td>Italian</td>\n",
       "      <td>6</td>\n",
       "    </tr>\n",
       "    <tr>\n",
       "      <th>15</th>\n",
       "      <td>2075</td>\n",
       "      <td>Mexican</td>\n",
       "      <td>3</td>\n",
       "    </tr>\n",
       "    <tr>\n",
       "      <th>16</th>\n",
       "      <td>2675</td>\n",
       "      <td>American</td>\n",
       "      <td>3</td>\n",
       "    </tr>\n",
       "    <tr>\n",
       "      <th>17</th>\n",
       "      <td>2675</td>\n",
       "      <td>Asian</td>\n",
       "      <td>3</td>\n",
       "    </tr>\n",
       "    <tr>\n",
       "      <th>18</th>\n",
       "      <td>2675</td>\n",
       "      <td>Italian</td>\n",
       "      <td>4</td>\n",
       "    </tr>\n",
       "    <tr>\n",
       "      <th>19</th>\n",
       "      <td>2675</td>\n",
       "      <td>Mexican</td>\n",
       "      <td>4</td>\n",
       "    </tr>\n",
       "  </tbody>\n",
       "</table>\n",
       "</div>"
      ],
      "text/plain": [
       "    order_id  category  total_orders\n",
       "0        330  American             1\n",
       "1        330     Asian             6\n",
       "2        330   Italian             3\n",
       "3        330   Mexican             4\n",
       "4        440  American             2\n",
       "5        440     Asian             2\n",
       "6        440   Italian             8\n",
       "7        440   Mexican             2\n",
       "8       1957  American             3\n",
       "9       1957     Asian             3\n",
       "10      1957   Italian             5\n",
       "11      1957   Mexican             3\n",
       "12      2075  American             1\n",
       "13      2075     Asian             3\n",
       "14      2075   Italian             6\n",
       "15      2075   Mexican             3\n",
       "16      2675  American             3\n",
       "17      2675     Asian             3\n",
       "18      2675   Italian             4\n",
       "19      2675   Mexican             4"
      ]
     },
     "execution_count": 157,
     "metadata": {},
     "output_type": "execute_result"
    }
   ],
   "source": [
    "#To get the category and number of orders placed by these top 5 spend\n",
    "top_5_spend_cat_orders = (df[df['order_id'].isin ([440, 2075, 1957, 330, 2675])]\n",
    "                            .groupby(['order_id', 'category'], as_index=False)\n",
    "                            .agg(total_orders=('order_id', 'count')))\n",
    "    \n",
    "top_5_spend_cat_orders"
   ]
  },
  {
   "cell_type": "code",
   "execution_count": 158,
   "id": "ea382206",
   "metadata": {},
   "outputs": [],
   "source": [
    "#getting the high spend customer using their order_id\n",
    "high_spend_customer = df[df['order_id'].isin ([440, 2075, 1957, 330, 2675])]"
   ]
  },
  {
   "cell_type": "code",
   "execution_count": 183,
   "id": "8e991efb",
   "metadata": {},
   "outputs": [
    {
     "data": {
      "image/png": "[encoded data removed]",
      "text/plain": [
       "<Figure size 900x500 with 1 Axes>"
      ]
     },
     "metadata": {},
     "output_type": "display_data"
    }
   ],
   "source": [
    "#plotting a bar chart of number of orders placed by category by the high spent customers\n",
    "fig, ax = plt.subplots(figsize=[9,5])\n",
    "sns.countplot(data=high_spend_customer, x='order_id', hue='category')\n",
    "\n",
    "sns.despine()\n",
    "\n",
    "#add title\n",
    "ax.set_title('Number of orders per category by high spent customers')\n",
    "ax.set_xlabel('Order ID')\n",
    "ax.set_ylabel('Qty of Menus')\n",
    "plt.show()"
   ]
  },
  {
   "cell_type": "markdown",
   "id": "23850799",
   "metadata": {},
   "source": [
    "- The chart shows that our high spend customers made more purchase of the italian foods, and as such, we should focus on improving the menus"
   ]
  },
  {
   "cell_type": "markdown",
   "id": "5f51e307",
   "metadata": {},
   "source": [
    "### Total Revenue by Menu Items"
   ]
  },
  {
   "cell_type": "code",
   "execution_count": 185,
   "id": "57f57bec",
   "metadata": {},
   "outputs": [],
   "source": [
    "#generating the  revenue of each menu items\n",
    "item_sales = (df.groupby(['item_name'], as_index=False)\n",
    "                .agg(total_revenue=('price', 'sum'))\n",
    "                .sort_values('total_revenue', ascending=False))"
   ]
  },
  {
   "cell_type": "code",
   "execution_count": 186,
   "id": "2b1398b7",
   "metadata": {},
   "outputs": [
    {
     "data": {
      "text/html": [
       "<div>\n",
       "<style scoped>\n",
       "    .dataframe tbody tr th:only-of-type {\n",
       "        vertical-align: middle;\n",
       "    }\n",
       "\n",
       "    .dataframe tbody tr th {\n",
       "        vertical-align: top;\n",
       "    }\n",
       "\n",
       "    .dataframe thead th {\n",
       "        text-align: right;\n",
       "    }\n",
       "</style>\n",
       "<table border=\"1\" class=\"dataframe\">\n",
       "  <thead>\n",
       "    <tr style=\"text-align: right;\">\n",
       "      <th></th>\n",
       "      <th>item_name</th>\n",
       "      <th>total_revenue</th>\n",
       "    </tr>\n",
       "  </thead>\n",
       "  <tbody>\n",
       "    <tr>\n",
       "      <th>16</th>\n",
       "      <td>Korean Beef Bowl</td>\n",
       "      <td>10554.60</td>\n",
       "    </tr>\n",
       "    <tr>\n",
       "      <th>26</th>\n",
       "      <td>Spaghetti &amp; Meatballs</td>\n",
       "      <td>8436.50</td>\n",
       "    </tr>\n",
       "    <tr>\n",
       "      <th>30</th>\n",
       "      <td>Tofu Pad Thai</td>\n",
       "      <td>8149.00</td>\n",
       "    </tr>\n",
       "    <tr>\n",
       "      <th>3</th>\n",
       "      <td>Cheeseburger</td>\n",
       "      <td>8132.85</td>\n",
       "    </tr>\n",
       "    <tr>\n",
       "      <th>14</th>\n",
       "      <td>Hamburger</td>\n",
       "      <td>8054.90</td>\n",
       "    </tr>\n",
       "    <tr>\n",
       "      <th>20</th>\n",
       "      <td>Orange Chicken</td>\n",
       "      <td>7524.00</td>\n",
       "    </tr>\n",
       "    <tr>\n",
       "      <th>11</th>\n",
       "      <td>Eggplant Parmesan</td>\n",
       "      <td>7119.00</td>\n",
       "    </tr>\n",
       "    <tr>\n",
       "      <th>29</th>\n",
       "      <td>Steak Torta</td>\n",
       "      <td>6821.55</td>\n",
       "    </tr>\n",
       "    <tr>\n",
       "      <th>5</th>\n",
       "      <td>Chicken Parmesan</td>\n",
       "      <td>6533.80</td>\n",
       "    </tr>\n",
       "    <tr>\n",
       "      <th>21</th>\n",
       "      <td>Pork Ramen</td>\n",
       "      <td>6462.00</td>\n",
       "    </tr>\n",
       "  </tbody>\n",
       "</table>\n",
       "</div>"
      ],
      "text/plain": [
       "                item_name  total_revenue\n",
       "16       Korean Beef Bowl       10554.60\n",
       "26  Spaghetti & Meatballs        8436.50\n",
       "30          Tofu Pad Thai        8149.00\n",
       "3            Cheeseburger        8132.85\n",
       "14              Hamburger        8054.90\n",
       "20         Orange Chicken        7524.00\n",
       "11      Eggplant Parmesan        7119.00\n",
       "29            Steak Torta        6821.55\n",
       "5        Chicken Parmesan        6533.80\n",
       "21             Pork Ramen        6462.00"
      ]
     },
     "execution_count": 186,
     "metadata": {},
     "output_type": "execute_result"
    }
   ],
   "source": [
    "#display the ten top revenue generating menu items\n",
    "item_sales.head(10)"
   ]
  },
  {
   "cell_type": "code",
   "execution_count": 187,
   "id": "e52e1547",
   "metadata": {},
   "outputs": [
    {
     "data": {
      "text/html": [
       "<div>\n",
       "<style scoped>\n",
       "    .dataframe tbody tr th:only-of-type {\n",
       "        vertical-align: middle;\n",
       "    }\n",
       "\n",
       "    .dataframe tbody tr th {\n",
       "        vertical-align: top;\n",
       "    }\n",
       "\n",
       "    .dataframe thead th {\n",
       "        text-align: right;\n",
       "    }\n",
       "</style>\n",
       "<table border=\"1\" class=\"dataframe\">\n",
       "  <thead>\n",
       "    <tr style=\"text-align: right;\">\n",
       "      <th></th>\n",
       "      <th>item_name</th>\n",
       "      <th>category</th>\n",
       "      <th>total_revenue</th>\n",
       "    </tr>\n",
       "  </thead>\n",
       "  <tbody>\n",
       "    <tr>\n",
       "      <th>0</th>\n",
       "      <td>Korean Beef Bowl</td>\n",
       "      <td>Asian</td>\n",
       "      <td>10554.60</td>\n",
       "    </tr>\n",
       "    <tr>\n",
       "      <th>1</th>\n",
       "      <td>Spaghetti &amp; Meatballs</td>\n",
       "      <td>Italian</td>\n",
       "      <td>8436.50</td>\n",
       "    </tr>\n",
       "    <tr>\n",
       "      <th>2</th>\n",
       "      <td>Tofu Pad Thai</td>\n",
       "      <td>Asian</td>\n",
       "      <td>8149.00</td>\n",
       "    </tr>\n",
       "    <tr>\n",
       "      <th>3</th>\n",
       "      <td>Cheeseburger</td>\n",
       "      <td>American</td>\n",
       "      <td>8132.85</td>\n",
       "    </tr>\n",
       "    <tr>\n",
       "      <th>4</th>\n",
       "      <td>Hamburger</td>\n",
       "      <td>American</td>\n",
       "      <td>8054.90</td>\n",
       "    </tr>\n",
       "    <tr>\n",
       "      <th>5</th>\n",
       "      <td>Orange Chicken</td>\n",
       "      <td>Asian</td>\n",
       "      <td>7524.00</td>\n",
       "    </tr>\n",
       "    <tr>\n",
       "      <th>6</th>\n",
       "      <td>Eggplant Parmesan</td>\n",
       "      <td>Italian</td>\n",
       "      <td>7119.00</td>\n",
       "    </tr>\n",
       "    <tr>\n",
       "      <th>7</th>\n",
       "      <td>Steak Torta</td>\n",
       "      <td>Mexican</td>\n",
       "      <td>6821.55</td>\n",
       "    </tr>\n",
       "    <tr>\n",
       "      <th>8</th>\n",
       "      <td>Chicken Parmesan</td>\n",
       "      <td>Italian</td>\n",
       "      <td>6533.80</td>\n",
       "    </tr>\n",
       "    <tr>\n",
       "      <th>9</th>\n",
       "      <td>Pork Ramen</td>\n",
       "      <td>Asian</td>\n",
       "      <td>6462.00</td>\n",
       "    </tr>\n",
       "  </tbody>\n",
       "</table>\n",
       "</div>"
      ],
      "text/plain": [
       "               item_name  category  total_revenue\n",
       "0       Korean Beef Bowl     Asian       10554.60\n",
       "1  Spaghetti & Meatballs   Italian        8436.50\n",
       "2          Tofu Pad Thai     Asian        8149.00\n",
       "3           Cheeseburger  American        8132.85\n",
       "4              Hamburger  American        8054.90\n",
       "5         Orange Chicken     Asian        7524.00\n",
       "6      Eggplant Parmesan   Italian        7119.00\n",
       "7            Steak Torta   Mexican        6821.55\n",
       "8       Chicken Parmesan   Italian        6533.80\n",
       "9             Pork Ramen     Asian        6462.00"
      ]
     },
     "execution_count": 187,
     "metadata": {},
     "output_type": "execute_result"
    }
   ],
   "source": [
    "#display the ten top revenue generating menu items and its category\n",
    "item_sales_price = item_sales.merge(menu, on='item_name', how='left').drop('item_id', axis=1)\n",
    "item_sales_price[['item_name', 'category','total_revenue']].head(10)"
   ]
  },
  {
   "cell_type": "markdown",
   "id": "db26fbbd",
   "metadata": {},
   "source": [
    "## Summary"
   ]
  },
  {
   "cell_type": "markdown",
   "id": "5a0acf93",
   "metadata": {},
   "source": [
    "- The orders is generally the same, except for February where there is 8.7% drop, which step up in March\n",
    "- There are four peak order hours: 12pm, 1pm, 5pm, and 6pm. These hours account for 45% of the total orders and as such the business should focus more at these hours and have manpower to fulfill the orders\n",
    "- Hamburger is the most ordered. The business should consider dropping the least ordered item; the Chicken tacos\n",
    "- The Italian Cuisine is the most ordered category among our top spend customers, so the business should focus on developing its menus\n",
    "- Based on the orders and revenue, these menus items Hamburger & Cheeseburger (American), Korean beef bowl & Tofu pad Thai (Asian), Spaghetti & Meatballs (Italian) and Steak Torta (Mexican) are menus worth keeping and developing in each cuisine"
   ]
  },
  {
   "cell_type": "code",
   "execution_count": null,
   "id": "14690ea6",
   "metadata": {},
   "outputs": [],
   "source": []
  }
 ],
 "metadata": {
  "kernelspec": {
   "display_name": "Python 3 (ipykernel)",
   "language": "python",
   "name": "python3"
  },
  "language_info": {
   "codemirror_mode": {
    "name": "ipython",
    "version": 3
   },
   "file_extension": ".py",
   "mimetype": "text/x-python",
   "name": "python",
   "nbconvert_exporter": "python",
   "pygments_lexer": "ipython3",
   "version": "3.10.9"
  },
  "varInspector": {
   "cols": {
    "lenName": 16,
    "lenType": 16,
    "lenVar": 40
   },
   "kernels_config": {
    "python": {
     "delete_cmd_postfix": "",
     "delete_cmd_prefix": "del ",
     "library": "var_list.py",
     "varRefreshCmd": "print(var_dic_list())"
    },
    "r": {
     "delete_cmd_postfix": ") ",
     "delete_cmd_prefix": "rm(",
     "library": "var_list.r",
     "varRefreshCmd": "cat(var_dic_list()) "
    }
   },
   "types_to_exclude": [
    "module",
    "function",
    "builtin_function_or_method",
    "instance",
    "_Feature"
   ],
   "window_display": false
  }
 },
 "nbformat": 4,
 "nbformat_minor": 5
}
