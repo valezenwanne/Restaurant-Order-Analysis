{
 "cells": [
  {
   "cell_type": "markdown",
   "id": "dd486b0c",
   "metadata": {},
   "source": [
    "# Restaurant Order Analysis"
   ]
  },
  {
   "cell_type": "markdown",
   "id": "2bd0b544",
   "metadata": {},
   "source": [
    "## Project Objective\n",
    "- The Objective of the project is to analyze a quarter worth of orders from a fictitious restaurant serving international cuisine.\n",
    "\n",
    "### Recommended Analysis"
   ]
  },
  {
   "cell_type": "markdown",
   "id": "8a59e3b4",
   "metadata": {},
   "source": [
    "### Import the Libraries"
   ]
  },
  {
   "cell_type": "code",
   "execution_count": 1,
   "id": "f94d56ac",
   "metadata": {},
   "outputs": [],
   "source": [
    "#import the libraries\n",
    "import pandas as pd\n",
    "import numpy as np\n",
    "import seaborn as sns\n",
    "import matplotlib.pyplot as plt\n",
    "%matplotlib inline\n",
    "pd.set_option('display.max_columns', None)"
   ]
  },
  {
   "cell_type": "code",
   "execution_count": 2,
   "id": "871c95f6",
   "metadata": {},
   "outputs": [],
   "source": [
    "#import the data\n",
    "orders = pd.read_csv('order_details.csv')\n",
    "menu = pd.read_csv('menu_items.csv')"
   ]
  },
  {
   "cell_type": "code",
   "execution_count": 3,
   "id": "0a279497",
   "metadata": {},
   "outputs": [
    {
     "data": {
      "text/html": [
       "<div>\n",
       "<style scoped>\n",
       "    .dataframe tbody tr th:only-of-type {\n",
       "        vertical-align: middle;\n",
       "    }\n",
       "\n",
       "    .dataframe tbody tr th {\n",
       "        vertical-align: top;\n",
       "    }\n",
       "\n",
       "    .dataframe thead th {\n",
       "        text-align: right;\n",
       "    }\n",
       "</style>\n",
       "<table border=\"1\" class=\"dataframe\">\n",
       "  <thead>\n",
       "    <tr style=\"text-align: right;\">\n",
       "      <th></th>\n",
       "      <th>order_details_id</th>\n",
       "      <th>order_id</th>\n",
       "      <th>order_date</th>\n",
       "      <th>order_time</th>\n",
       "      <th>item_id</th>\n",
       "    </tr>\n",
       "  </thead>\n",
       "  <tbody>\n",
       "    <tr>\n",
       "      <th>0</th>\n",
       "      <td>1</td>\n",
       "      <td>1</td>\n",
       "      <td>1/1/23</td>\n",
       "      <td>11:38:36 AM</td>\n",
       "      <td>109.0</td>\n",
       "    </tr>\n",
       "    <tr>\n",
       "      <th>1</th>\n",
       "      <td>2</td>\n",
       "      <td>2</td>\n",
       "      <td>1/1/23</td>\n",
       "      <td>11:57:40 AM</td>\n",
       "      <td>108.0</td>\n",
       "    </tr>\n",
       "    <tr>\n",
       "      <th>2</th>\n",
       "      <td>3</td>\n",
       "      <td>2</td>\n",
       "      <td>1/1/23</td>\n",
       "      <td>11:57:40 AM</td>\n",
       "      <td>124.0</td>\n",
       "    </tr>\n",
       "    <tr>\n",
       "      <th>3</th>\n",
       "      <td>4</td>\n",
       "      <td>2</td>\n",
       "      <td>1/1/23</td>\n",
       "      <td>11:57:40 AM</td>\n",
       "      <td>117.0</td>\n",
       "    </tr>\n",
       "    <tr>\n",
       "      <th>4</th>\n",
       "      <td>5</td>\n",
       "      <td>2</td>\n",
       "      <td>1/1/23</td>\n",
       "      <td>11:57:40 AM</td>\n",
       "      <td>129.0</td>\n",
       "    </tr>\n",
       "  </tbody>\n",
       "</table>\n",
       "</div>"
      ],
      "text/plain": [
       "   order_details_id  order_id order_date   order_time  item_id\n",
       "0                 1         1     1/1/23  11:38:36 AM    109.0\n",
       "1                 2         2     1/1/23  11:57:40 AM    108.0\n",
       "2                 3         2     1/1/23  11:57:40 AM    124.0\n",
       "3                 4         2     1/1/23  11:57:40 AM    117.0\n",
       "4                 5         2     1/1/23  11:57:40 AM    129.0"
      ]
     },
     "execution_count": 3,
     "metadata": {},
     "output_type": "execute_result"
    }
   ],
   "source": [
    "#display first few rows of the orders table\n",
    "orders.head()"
   ]
  },
  {
   "cell_type": "code",
   "execution_count": 4,
   "id": "9370080a",
   "metadata": {},
   "outputs": [
    {
     "data": {
      "text/html": [
       "<div>\n",
       "<style scoped>\n",
       "    .dataframe tbody tr th:only-of-type {\n",
       "        vertical-align: middle;\n",
       "    }\n",
       "\n",
       "    .dataframe tbody tr th {\n",
       "        vertical-align: top;\n",
       "    }\n",
       "\n",
       "    .dataframe thead th {\n",
       "        text-align: right;\n",
       "    }\n",
       "</style>\n",
       "<table border=\"1\" class=\"dataframe\">\n",
       "  <thead>\n",
       "    <tr style=\"text-align: right;\">\n",
       "      <th></th>\n",
       "      <th>menu_item_id</th>\n",
       "      <th>item_name</th>\n",
       "      <th>category</th>\n",
       "      <th>price</th>\n",
       "    </tr>\n",
       "  </thead>\n",
       "  <tbody>\n",
       "    <tr>\n",
       "      <th>0</th>\n",
       "      <td>101</td>\n",
       "      <td>Hamburger</td>\n",
       "      <td>American</td>\n",
       "      <td>12.95</td>\n",
       "    </tr>\n",
       "    <tr>\n",
       "      <th>1</th>\n",
       "      <td>102</td>\n",
       "      <td>Cheeseburger</td>\n",
       "      <td>American</td>\n",
       "      <td>13.95</td>\n",
       "    </tr>\n",
       "    <tr>\n",
       "      <th>2</th>\n",
       "      <td>103</td>\n",
       "      <td>Hot Dog</td>\n",
       "      <td>American</td>\n",
       "      <td>9.00</td>\n",
       "    </tr>\n",
       "    <tr>\n",
       "      <th>3</th>\n",
       "      <td>104</td>\n",
       "      <td>Veggie Burger</td>\n",
       "      <td>American</td>\n",
       "      <td>10.50</td>\n",
       "    </tr>\n",
       "    <tr>\n",
       "      <th>4</th>\n",
       "      <td>105</td>\n",
       "      <td>Mac &amp; Cheese</td>\n",
       "      <td>American</td>\n",
       "      <td>7.00</td>\n",
       "    </tr>\n",
       "  </tbody>\n",
       "</table>\n",
       "</div>"
      ],
      "text/plain": [
       "   menu_item_id      item_name  category  price\n",
       "0           101      Hamburger  American  12.95\n",
       "1           102   Cheeseburger  American  13.95\n",
       "2           103        Hot Dog  American   9.00\n",
       "3           104  Veggie Burger  American  10.50\n",
       "4           105   Mac & Cheese  American   7.00"
      ]
     },
     "execution_count": 4,
     "metadata": {},
     "output_type": "execute_result"
    }
   ],
   "source": [
    "#display the first few rows of the menu table\n",
    "menu.head()"
   ]
  },
  {
   "cell_type": "markdown",
   "id": "f3e7ad57",
   "metadata": {},
   "source": [
    "### Data Wrangling (Orders Table)"
   ]
  },
  {
   "cell_type": "code",
   "execution_count": 5,
   "id": "47a3610e",
   "metadata": {},
   "outputs": [
    {
     "data": {
      "text/plain": [
       "(12234, 5)"
      ]
     },
     "execution_count": 5,
     "metadata": {},
     "output_type": "execute_result"
    }
   ],
   "source": [
    "#understanding the shape \n",
    "orders.shape"
   ]
  },
  {
   "cell_type": "markdown",
   "id": "d6f29c06",
   "metadata": {},
   "source": [
    "- orders contain about 12,234 orders made by customers"
   ]
  },
  {
   "cell_type": "code",
   "execution_count": 6,
   "id": "7e95d004",
   "metadata": {},
   "outputs": [
    {
     "data": {
      "text/plain": [
       "order_details_id      0\n",
       "order_id              0\n",
       "order_date            0\n",
       "order_time            0\n",
       "item_id             137\n",
       "dtype: int64"
      ]
     },
     "execution_count": 6,
     "metadata": {},
     "output_type": "execute_result"
    }
   ],
   "source": [
    "#Checking for missing values\n",
    "orders.isna().sum()"
   ]
  },
  {
   "cell_type": "markdown",
   "id": "672c5c17",
   "metadata": {},
   "source": [
    "- There are 137 orders item_id missing"
   ]
  },
  {
   "cell_type": "code",
   "execution_count": 7,
   "id": "b41b72b1",
   "metadata": {},
   "outputs": [
    {
     "data": {
      "text/html": [
       "<div>\n",
       "<style scoped>\n",
       "    .dataframe tbody tr th:only-of-type {\n",
       "        vertical-align: middle;\n",
       "    }\n",
       "\n",
       "    .dataframe tbody tr th {\n",
       "        vertical-align: top;\n",
       "    }\n",
       "\n",
       "    .dataframe thead th {\n",
       "        text-align: right;\n",
       "    }\n",
       "</style>\n",
       "<table border=\"1\" class=\"dataframe\">\n",
       "  <thead>\n",
       "    <tr style=\"text-align: right;\">\n",
       "      <th></th>\n",
       "      <th>order_details_id</th>\n",
       "      <th>order_id</th>\n",
       "      <th>order_date</th>\n",
       "      <th>order_time</th>\n",
       "      <th>item_id</th>\n",
       "    </tr>\n",
       "  </thead>\n",
       "  <tbody>\n",
       "    <tr>\n",
       "      <th>121</th>\n",
       "      <td>122</td>\n",
       "      <td>50</td>\n",
       "      <td>1/1/23</td>\n",
       "      <td>6:41:01 PM</td>\n",
       "      <td>NaN</td>\n",
       "    </tr>\n",
       "    <tr>\n",
       "      <th>297</th>\n",
       "      <td>298</td>\n",
       "      <td>125</td>\n",
       "      <td>1/2/23</td>\n",
       "      <td>8:31:06 PM</td>\n",
       "      <td>NaN</td>\n",
       "    </tr>\n",
       "    <tr>\n",
       "      <th>357</th>\n",
       "      <td>358</td>\n",
       "      <td>147</td>\n",
       "      <td>1/3/23</td>\n",
       "      <td>2:32:51 PM</td>\n",
       "      <td>NaN</td>\n",
       "    </tr>\n",
       "    <tr>\n",
       "      <th>386</th>\n",
       "      <td>387</td>\n",
       "      <td>161</td>\n",
       "      <td>1/3/23</td>\n",
       "      <td>4:43:46 PM</td>\n",
       "      <td>NaN</td>\n",
       "    </tr>\n",
       "    <tr>\n",
       "      <th>469</th>\n",
       "      <td>470</td>\n",
       "      <td>200</td>\n",
       "      <td>1/3/23</td>\n",
       "      <td>10:24:05 PM</td>\n",
       "      <td>NaN</td>\n",
       "    </tr>\n",
       "    <tr>\n",
       "      <th>...</th>\n",
       "      <td>...</td>\n",
       "      <td>...</td>\n",
       "      <td>...</td>\n",
       "      <td>...</td>\n",
       "      <td>...</td>\n",
       "    </tr>\n",
       "    <tr>\n",
       "      <th>11716</th>\n",
       "      <td>11717</td>\n",
       "      <td>5149</td>\n",
       "      <td>3/28/23</td>\n",
       "      <td>2:48:50 PM</td>\n",
       "      <td>NaN</td>\n",
       "    </tr>\n",
       "    <tr>\n",
       "      <th>11903</th>\n",
       "      <td>11904</td>\n",
       "      <td>5225</td>\n",
       "      <td>3/29/23</td>\n",
       "      <td>5:40:52 PM</td>\n",
       "      <td>NaN</td>\n",
       "    </tr>\n",
       "    <tr>\n",
       "      <th>11906</th>\n",
       "      <td>11907</td>\n",
       "      <td>5226</td>\n",
       "      <td>3/29/23</td>\n",
       "      <td>5:43:56 PM</td>\n",
       "      <td>NaN</td>\n",
       "    </tr>\n",
       "    <tr>\n",
       "      <th>12021</th>\n",
       "      <td>12022</td>\n",
       "      <td>5281</td>\n",
       "      <td>3/30/23</td>\n",
       "      <td>4:56:04 PM</td>\n",
       "      <td>NaN</td>\n",
       "    </tr>\n",
       "    <tr>\n",
       "      <th>12063</th>\n",
       "      <td>12064</td>\n",
       "      <td>5303</td>\n",
       "      <td>3/30/23</td>\n",
       "      <td>9:15:27 PM</td>\n",
       "      <td>NaN</td>\n",
       "    </tr>\n",
       "  </tbody>\n",
       "</table>\n",
       "<p>137 rows × 5 columns</p>\n",
       "</div>"
      ],
      "text/plain": [
       "       order_details_id  order_id order_date   order_time  item_id\n",
       "121                 122        50     1/1/23   6:41:01 PM      NaN\n",
       "297                 298       125     1/2/23   8:31:06 PM      NaN\n",
       "357                 358       147     1/3/23   2:32:51 PM      NaN\n",
       "386                 387       161     1/3/23   4:43:46 PM      NaN\n",
       "469                 470       200     1/3/23  10:24:05 PM      NaN\n",
       "...                 ...       ...        ...          ...      ...\n",
       "11716             11717      5149    3/28/23   2:48:50 PM      NaN\n",
       "11903             11904      5225    3/29/23   5:40:52 PM      NaN\n",
       "11906             11907      5226    3/29/23   5:43:56 PM      NaN\n",
       "12021             12022      5281    3/30/23   4:56:04 PM      NaN\n",
       "12063             12064      5303    3/30/23   9:15:27 PM      NaN\n",
       "\n",
       "[137 rows x 5 columns]"
      ]
     },
     "execution_count": 7,
     "metadata": {},
     "output_type": "execute_result"
    }
   ],
   "source": [
    "#display the missing items\n",
    "orders[orders['item_id'].isna()]"
   ]
  },
  {
   "cell_type": "markdown",
   "id": "5f91df85",
   "metadata": {},
   "source": [
    "- Since the missing values constitute just about 1% of the data, we will drop the missing values\n",
    "- Secondly, these missing item_id has made it impossible to know the menu item and categeory of the orders, so we will drop them"
   ]
  },
  {
   "cell_type": "code",
   "execution_count": 8,
   "id": "ccc6e0a0",
   "metadata": {},
   "outputs": [
    {
     "data": {
      "text/plain": [
       "0"
      ]
     },
     "execution_count": 8,
     "metadata": {},
     "output_type": "execute_result"
    }
   ],
   "source": [
    "#checking for duplicates\n",
    "orders.duplicated().sum()"
   ]
  },
  {
   "cell_type": "markdown",
   "id": "77139032",
   "metadata": {},
   "source": [
    "- There are no duplicates in the orders table"
   ]
  },
  {
   "cell_type": "code",
   "execution_count": 9,
   "id": "63213a8f",
   "metadata": {},
   "outputs": [
    {
     "data": {
      "text/plain": [
       "order_details_id      int64\n",
       "order_id              int64\n",
       "order_date           object\n",
       "order_time           object\n",
       "item_id             float64\n",
       "dtype: object"
      ]
     },
     "execution_count": 9,
     "metadata": {},
     "output_type": "execute_result"
    }
   ],
   "source": [
    "#checking the datatypes\n",
    "orders.dtypes"
   ]
  },
  {
   "cell_type": "markdown",
   "id": "532c8d27",
   "metadata": {},
   "source": [
    "- The order_date is an object datatype instead of datetime\n",
    "- The order_time is an object datatype instead of time"
   ]
  },
  {
   "cell_type": "markdown",
   "id": "e53fbb45",
   "metadata": {},
   "source": [
    "### Data Cleaning (Orders table)"
   ]
  },
  {
   "cell_type": "markdown",
   "id": "3e727c17",
   "metadata": {},
   "source": [
    "#### Make a Copy"
   ]
  },
  {
   "cell_type": "code",
   "execution_count": 10,
   "id": "a3d6798c",
   "metadata": {},
   "outputs": [],
   "source": [
    "#make a copy of the orders table\n",
    "orders_copy = orders.copy()"
   ]
  },
  {
   "cell_type": "markdown",
   "id": "929a132c",
   "metadata": {},
   "source": [
    "#### Dropping the missing values"
   ]
  },
  {
   "cell_type": "code",
   "execution_count": 11,
   "id": "9d1675bf",
   "metadata": {},
   "outputs": [],
   "source": [
    "#drop the missing values\n",
    "orders_copy.dropna(inplace=True)"
   ]
  },
  {
   "cell_type": "code",
   "execution_count": 12,
   "id": "cea57211",
   "metadata": {},
   "outputs": [
    {
     "data": {
      "text/plain": [
       "order_details_id    0\n",
       "order_id            0\n",
       "order_date          0\n",
       "order_time          0\n",
       "item_id             0\n",
       "dtype: int64"
      ]
     },
     "execution_count": 12,
     "metadata": {},
     "output_type": "execute_result"
    }
   ],
   "source": [
    "#confirming the missing values have been dropped\n",
    "orders_copy.isna().sum()"
   ]
  },
  {
   "cell_type": "markdown",
   "id": "cf28ba21",
   "metadata": {},
   "source": [
    "#### Changing Datatype"
   ]
  },
  {
   "cell_type": "code",
   "execution_count": 13,
   "id": "bfa6634d",
   "metadata": {},
   "outputs": [],
   "source": [
    "#changing the datatype of order_date\n",
    "orders_copy['order_date'] = orders_copy['order_date'].astype('datetime64')"
   ]
  },
  {
   "cell_type": "code",
   "execution_count": 14,
   "id": "2d959895",
   "metadata": {},
   "outputs": [
    {
     "data": {
      "text/plain": [
       "order_details_id             int64\n",
       "order_id                     int64\n",
       "order_date          datetime64[ns]\n",
       "order_time                  object\n",
       "item_id                    float64\n",
       "dtype: object"
      ]
     },
     "execution_count": 14,
     "metadata": {},
     "output_type": "execute_result"
    }
   ],
   "source": [
    "#confirm the datatype of order_date\n",
    "orders_copy.dtypes"
   ]
  },
  {
   "cell_type": "code",
   "execution_count": 15,
   "id": "cec151a1",
   "metadata": {},
   "outputs": [
    {
     "data": {
      "text/html": [
       "<div>\n",
       "<style scoped>\n",
       "    .dataframe tbody tr th:only-of-type {\n",
       "        vertical-align: middle;\n",
       "    }\n",
       "\n",
       "    .dataframe tbody tr th {\n",
       "        vertical-align: top;\n",
       "    }\n",
       "\n",
       "    .dataframe thead th {\n",
       "        text-align: right;\n",
       "    }\n",
       "</style>\n",
       "<table border=\"1\" class=\"dataframe\">\n",
       "  <thead>\n",
       "    <tr style=\"text-align: right;\">\n",
       "      <th></th>\n",
       "      <th>order_details_id</th>\n",
       "      <th>order_id</th>\n",
       "      <th>order_date</th>\n",
       "      <th>order_time</th>\n",
       "      <th>item_id</th>\n",
       "    </tr>\n",
       "  </thead>\n",
       "  <tbody>\n",
       "    <tr>\n",
       "      <th>0</th>\n",
       "      <td>1</td>\n",
       "      <td>1</td>\n",
       "      <td>2023-01-01</td>\n",
       "      <td>11:38:36 AM</td>\n",
       "      <td>109.0</td>\n",
       "    </tr>\n",
       "    <tr>\n",
       "      <th>1</th>\n",
       "      <td>2</td>\n",
       "      <td>2</td>\n",
       "      <td>2023-01-01</td>\n",
       "      <td>11:57:40 AM</td>\n",
       "      <td>108.0</td>\n",
       "    </tr>\n",
       "    <tr>\n",
       "      <th>2</th>\n",
       "      <td>3</td>\n",
       "      <td>2</td>\n",
       "      <td>2023-01-01</td>\n",
       "      <td>11:57:40 AM</td>\n",
       "      <td>124.0</td>\n",
       "    </tr>\n",
       "    <tr>\n",
       "      <th>3</th>\n",
       "      <td>4</td>\n",
       "      <td>2</td>\n",
       "      <td>2023-01-01</td>\n",
       "      <td>11:57:40 AM</td>\n",
       "      <td>117.0</td>\n",
       "    </tr>\n",
       "    <tr>\n",
       "      <th>4</th>\n",
       "      <td>5</td>\n",
       "      <td>2</td>\n",
       "      <td>2023-01-01</td>\n",
       "      <td>11:57:40 AM</td>\n",
       "      <td>129.0</td>\n",
       "    </tr>\n",
       "  </tbody>\n",
       "</table>\n",
       "</div>"
      ],
      "text/plain": [
       "   order_details_id  order_id order_date   order_time  item_id\n",
       "0                 1         1 2023-01-01  11:38:36 AM    109.0\n",
       "1                 2         2 2023-01-01  11:57:40 AM    108.0\n",
       "2                 3         2 2023-01-01  11:57:40 AM    124.0\n",
       "3                 4         2 2023-01-01  11:57:40 AM    117.0\n",
       "4                 5         2 2023-01-01  11:57:40 AM    129.0"
      ]
     },
     "execution_count": 15,
     "metadata": {},
     "output_type": "execute_result"
    }
   ],
   "source": [
    "orders_copy.head()"
   ]
  },
  {
   "cell_type": "markdown",
   "id": "b5b795b6",
   "metadata": {},
   "source": [
    "#### Feature Engineering"
   ]
  },
  {
   "cell_type": "code",
   "execution_count": 16,
   "id": "0d664c9e",
   "metadata": {},
   "outputs": [],
   "source": [
    "#creating the date_time column\n",
    "orders_copy['date_time'] = orders_copy['order_date'].astype('str') + \" \" + orders_copy['order_time']"
   ]
  },
  {
   "cell_type": "code",
   "execution_count": 17,
   "id": "e3158899",
   "metadata": {},
   "outputs": [
    {
     "data": {
      "text/html": [
       "<div>\n",
       "<style scoped>\n",
       "    .dataframe tbody tr th:only-of-type {\n",
       "        vertical-align: middle;\n",
       "    }\n",
       "\n",
       "    .dataframe tbody tr th {\n",
       "        vertical-align: top;\n",
       "    }\n",
       "\n",
       "    .dataframe thead th {\n",
       "        text-align: right;\n",
       "    }\n",
       "</style>\n",
       "<table border=\"1\" class=\"dataframe\">\n",
       "  <thead>\n",
       "    <tr style=\"text-align: right;\">\n",
       "      <th></th>\n",
       "      <th>order_details_id</th>\n",
       "      <th>order_id</th>\n",
       "      <th>order_date</th>\n",
       "      <th>order_time</th>\n",
       "      <th>item_id</th>\n",
       "      <th>date_time</th>\n",
       "    </tr>\n",
       "  </thead>\n",
       "  <tbody>\n",
       "    <tr>\n",
       "      <th>0</th>\n",
       "      <td>1</td>\n",
       "      <td>1</td>\n",
       "      <td>2023-01-01</td>\n",
       "      <td>11:38:36 AM</td>\n",
       "      <td>109.0</td>\n",
       "      <td>2023-01-01 11:38:36 AM</td>\n",
       "    </tr>\n",
       "    <tr>\n",
       "      <th>1</th>\n",
       "      <td>2</td>\n",
       "      <td>2</td>\n",
       "      <td>2023-01-01</td>\n",
       "      <td>11:57:40 AM</td>\n",
       "      <td>108.0</td>\n",
       "      <td>2023-01-01 11:57:40 AM</td>\n",
       "    </tr>\n",
       "    <tr>\n",
       "      <th>2</th>\n",
       "      <td>3</td>\n",
       "      <td>2</td>\n",
       "      <td>2023-01-01</td>\n",
       "      <td>11:57:40 AM</td>\n",
       "      <td>124.0</td>\n",
       "      <td>2023-01-01 11:57:40 AM</td>\n",
       "    </tr>\n",
       "    <tr>\n",
       "      <th>3</th>\n",
       "      <td>4</td>\n",
       "      <td>2</td>\n",
       "      <td>2023-01-01</td>\n",
       "      <td>11:57:40 AM</td>\n",
       "      <td>117.0</td>\n",
       "      <td>2023-01-01 11:57:40 AM</td>\n",
       "    </tr>\n",
       "    <tr>\n",
       "      <th>4</th>\n",
       "      <td>5</td>\n",
       "      <td>2</td>\n",
       "      <td>2023-01-01</td>\n",
       "      <td>11:57:40 AM</td>\n",
       "      <td>129.0</td>\n",
       "      <td>2023-01-01 11:57:40 AM</td>\n",
       "    </tr>\n",
       "  </tbody>\n",
       "</table>\n",
       "</div>"
      ],
      "text/plain": [
       "   order_details_id  order_id order_date   order_time  item_id  \\\n",
       "0                 1         1 2023-01-01  11:38:36 AM    109.0   \n",
       "1                 2         2 2023-01-01  11:57:40 AM    108.0   \n",
       "2                 3         2 2023-01-01  11:57:40 AM    124.0   \n",
       "3                 4         2 2023-01-01  11:57:40 AM    117.0   \n",
       "4                 5         2 2023-01-01  11:57:40 AM    129.0   \n",
       "\n",
       "                date_time  \n",
       "0  2023-01-01 11:38:36 AM  \n",
       "1  2023-01-01 11:57:40 AM  \n",
       "2  2023-01-01 11:57:40 AM  \n",
       "3  2023-01-01 11:57:40 AM  \n",
       "4  2023-01-01 11:57:40 AM  "
      ]
     },
     "execution_count": 17,
     "metadata": {},
     "output_type": "execute_result"
    }
   ],
   "source": [
    "#checking if the column has been created\n",
    "orders_copy.head()"
   ]
  },
  {
   "cell_type": "code",
   "execution_count": 18,
   "id": "e20ffe69",
   "metadata": {},
   "outputs": [
    {
     "data": {
      "text/plain": [
       "order_details_id             int64\n",
       "order_id                     int64\n",
       "order_date          datetime64[ns]\n",
       "order_time                  object\n",
       "item_id                    float64\n",
       "date_time                   object\n",
       "dtype: object"
      ]
     },
     "execution_count": 18,
     "metadata": {},
     "output_type": "execute_result"
    }
   ],
   "source": [
    "#checking the datatype of the date_time column\n",
    "orders_copy.dtypes"
   ]
  },
  {
   "cell_type": "code",
   "execution_count": 23,
   "id": "39b55105",
   "metadata": {},
   "outputs": [],
   "source": [
    "#converting the date_time column to datetime64\n",
    "orders_copy['date_time'] = orders_copy['date_time'].astype('datetime64')"
   ]
  },
  {
   "cell_type": "code",
   "execution_count": 24,
   "id": "2bc2ab21",
   "metadata": {},
   "outputs": [],
   "source": [
    "#extracting the year, month, day and hours\n",
    "orders_copy['year'] = orders_copy['date_time'].dt.year\n",
    "orders_copy['month'] = orders_copy['date_time'].dt.month\n",
    "orders_copy['month_name'] = orders_copy['date_time'].dt.month_name()\n",
    "orders_copy['day'] = orders_copy['date_time'].dt.day\n",
    "orders_copy['day_name'] = orders_copy['date_time'].dt.day_name()\n",
    "orders_copy['hour'] = orders_copy['date_time'].dt.hour"
   ]
  },
  {
   "cell_type": "code",
   "execution_count": 25,
   "id": "dd9b6ddd",
   "metadata": {},
   "outputs": [
    {
     "data": {
      "text/html": [
       "<div>\n",
       "<style scoped>\n",
       "    .dataframe tbody tr th:only-of-type {\n",
       "        vertical-align: middle;\n",
       "    }\n",
       "\n",
       "    .dataframe tbody tr th {\n",
       "        vertical-align: top;\n",
       "    }\n",
       "\n",
       "    .dataframe thead th {\n",
       "        text-align: right;\n",
       "    }\n",
       "</style>\n",
       "<table border=\"1\" class=\"dataframe\">\n",
       "  <thead>\n",
       "    <tr style=\"text-align: right;\">\n",
       "      <th></th>\n",
       "      <th>order_details_id</th>\n",
       "      <th>order_id</th>\n",
       "      <th>order_date</th>\n",
       "      <th>order_time</th>\n",
       "      <th>item_id</th>\n",
       "      <th>date_time</th>\n",
       "      <th>year</th>\n",
       "      <th>month</th>\n",
       "      <th>month_name</th>\n",
       "      <th>day</th>\n",
       "      <th>day_name</th>\n",
       "      <th>hour</th>\n",
       "    </tr>\n",
       "  </thead>\n",
       "  <tbody>\n",
       "    <tr>\n",
       "      <th>0</th>\n",
       "      <td>1</td>\n",
       "      <td>1</td>\n",
       "      <td>2023-01-01</td>\n",
       "      <td>11:38:36 AM</td>\n",
       "      <td>109.0</td>\n",
       "      <td>2023-01-01 11:38:36</td>\n",
       "      <td>2023</td>\n",
       "      <td>1</td>\n",
       "      <td>January</td>\n",
       "      <td>1</td>\n",
       "      <td>Sunday</td>\n",
       "      <td>11</td>\n",
       "    </tr>\n",
       "    <tr>\n",
       "      <th>1</th>\n",
       "      <td>2</td>\n",
       "      <td>2</td>\n",
       "      <td>2023-01-01</td>\n",
       "      <td>11:57:40 AM</td>\n",
       "      <td>108.0</td>\n",
       "      <td>2023-01-01 11:57:40</td>\n",
       "      <td>2023</td>\n",
       "      <td>1</td>\n",
       "      <td>January</td>\n",
       "      <td>1</td>\n",
       "      <td>Sunday</td>\n",
       "      <td>11</td>\n",
       "    </tr>\n",
       "    <tr>\n",
       "      <th>2</th>\n",
       "      <td>3</td>\n",
       "      <td>2</td>\n",
       "      <td>2023-01-01</td>\n",
       "      <td>11:57:40 AM</td>\n",
       "      <td>124.0</td>\n",
       "      <td>2023-01-01 11:57:40</td>\n",
       "      <td>2023</td>\n",
       "      <td>1</td>\n",
       "      <td>January</td>\n",
       "      <td>1</td>\n",
       "      <td>Sunday</td>\n",
       "      <td>11</td>\n",
       "    </tr>\n",
       "    <tr>\n",
       "      <th>3</th>\n",
       "      <td>4</td>\n",
       "      <td>2</td>\n",
       "      <td>2023-01-01</td>\n",
       "      <td>11:57:40 AM</td>\n",
       "      <td>117.0</td>\n",
       "      <td>2023-01-01 11:57:40</td>\n",
       "      <td>2023</td>\n",
       "      <td>1</td>\n",
       "      <td>January</td>\n",
       "      <td>1</td>\n",
       "      <td>Sunday</td>\n",
       "      <td>11</td>\n",
       "    </tr>\n",
       "    <tr>\n",
       "      <th>4</th>\n",
       "      <td>5</td>\n",
       "      <td>2</td>\n",
       "      <td>2023-01-01</td>\n",
       "      <td>11:57:40 AM</td>\n",
       "      <td>129.0</td>\n",
       "      <td>2023-01-01 11:57:40</td>\n",
       "      <td>2023</td>\n",
       "      <td>1</td>\n",
       "      <td>January</td>\n",
       "      <td>1</td>\n",
       "      <td>Sunday</td>\n",
       "      <td>11</td>\n",
       "    </tr>\n",
       "  </tbody>\n",
       "</table>\n",
       "</div>"
      ],
      "text/plain": [
       "   order_details_id  order_id order_date   order_time  item_id  \\\n",
       "0                 1         1 2023-01-01  11:38:36 AM    109.0   \n",
       "1                 2         2 2023-01-01  11:57:40 AM    108.0   \n",
       "2                 3         2 2023-01-01  11:57:40 AM    124.0   \n",
       "3                 4         2 2023-01-01  11:57:40 AM    117.0   \n",
       "4                 5         2 2023-01-01  11:57:40 AM    129.0   \n",
       "\n",
       "            date_time  year  month month_name  day day_name  hour  \n",
       "0 2023-01-01 11:38:36  2023      1    January    1   Sunday    11  \n",
       "1 2023-01-01 11:57:40  2023      1    January    1   Sunday    11  \n",
       "2 2023-01-01 11:57:40  2023      1    January    1   Sunday    11  \n",
       "3 2023-01-01 11:57:40  2023      1    January    1   Sunday    11  \n",
       "4 2023-01-01 11:57:40  2023      1    January    1   Sunday    11  "
      ]
     },
     "execution_count": 25,
     "metadata": {},
     "output_type": "execute_result"
    }
   ],
   "source": [
    "#display the head\n",
    "orders_copy.head()"
   ]
  },
  {
   "cell_type": "code",
   "execution_count": 37,
   "id": "471f63d2",
   "metadata": {},
   "outputs": [],
   "source": [
    "#extracting the time period (AM or PM)\n",
    "orders_copy['time_period'] = orders_copy['order_time'].str[-2:]"
   ]
  },
  {
   "cell_type": "code",
   "execution_count": 38,
   "id": "cfbf7b93",
   "metadata": {},
   "outputs": [
    {
     "data": {
      "text/html": [
       "<div>\n",
       "<style scoped>\n",
       "    .dataframe tbody tr th:only-of-type {\n",
       "        vertical-align: middle;\n",
       "    }\n",
       "\n",
       "    .dataframe tbody tr th {\n",
       "        vertical-align: top;\n",
       "    }\n",
       "\n",
       "    .dataframe thead th {\n",
       "        text-align: right;\n",
       "    }\n",
       "</style>\n",
       "<table border=\"1\" class=\"dataframe\">\n",
       "  <thead>\n",
       "    <tr style=\"text-align: right;\">\n",
       "      <th></th>\n",
       "      <th>order_details_id</th>\n",
       "      <th>order_id</th>\n",
       "      <th>order_date</th>\n",
       "      <th>order_time</th>\n",
       "      <th>item_id</th>\n",
       "      <th>date_time</th>\n",
       "      <th>year</th>\n",
       "      <th>month</th>\n",
       "      <th>month_name</th>\n",
       "      <th>day</th>\n",
       "      <th>day_name</th>\n",
       "      <th>hour</th>\n",
       "      <th>time_period</th>\n",
       "    </tr>\n",
       "  </thead>\n",
       "  <tbody>\n",
       "    <tr>\n",
       "      <th>0</th>\n",
       "      <td>1</td>\n",
       "      <td>1</td>\n",
       "      <td>2023-01-01</td>\n",
       "      <td>11:38:36 AM</td>\n",
       "      <td>109.0</td>\n",
       "      <td>2023-01-01 11:38:36</td>\n",
       "      <td>2023</td>\n",
       "      <td>1</td>\n",
       "      <td>January</td>\n",
       "      <td>1</td>\n",
       "      <td>Sunday</td>\n",
       "      <td>11</td>\n",
       "      <td>AM</td>\n",
       "    </tr>\n",
       "    <tr>\n",
       "      <th>1</th>\n",
       "      <td>2</td>\n",
       "      <td>2</td>\n",
       "      <td>2023-01-01</td>\n",
       "      <td>11:57:40 AM</td>\n",
       "      <td>108.0</td>\n",
       "      <td>2023-01-01 11:57:40</td>\n",
       "      <td>2023</td>\n",
       "      <td>1</td>\n",
       "      <td>January</td>\n",
       "      <td>1</td>\n",
       "      <td>Sunday</td>\n",
       "      <td>11</td>\n",
       "      <td>AM</td>\n",
       "    </tr>\n",
       "    <tr>\n",
       "      <th>2</th>\n",
       "      <td>3</td>\n",
       "      <td>2</td>\n",
       "      <td>2023-01-01</td>\n",
       "      <td>11:57:40 AM</td>\n",
       "      <td>124.0</td>\n",
       "      <td>2023-01-01 11:57:40</td>\n",
       "      <td>2023</td>\n",
       "      <td>1</td>\n",
       "      <td>January</td>\n",
       "      <td>1</td>\n",
       "      <td>Sunday</td>\n",
       "      <td>11</td>\n",
       "      <td>AM</td>\n",
       "    </tr>\n",
       "    <tr>\n",
       "      <th>3</th>\n",
       "      <td>4</td>\n",
       "      <td>2</td>\n",
       "      <td>2023-01-01</td>\n",
       "      <td>11:57:40 AM</td>\n",
       "      <td>117.0</td>\n",
       "      <td>2023-01-01 11:57:40</td>\n",
       "      <td>2023</td>\n",
       "      <td>1</td>\n",
       "      <td>January</td>\n",
       "      <td>1</td>\n",
       "      <td>Sunday</td>\n",
       "      <td>11</td>\n",
       "      <td>AM</td>\n",
       "    </tr>\n",
       "    <tr>\n",
       "      <th>4</th>\n",
       "      <td>5</td>\n",
       "      <td>2</td>\n",
       "      <td>2023-01-01</td>\n",
       "      <td>11:57:40 AM</td>\n",
       "      <td>129.0</td>\n",
       "      <td>2023-01-01 11:57:40</td>\n",
       "      <td>2023</td>\n",
       "      <td>1</td>\n",
       "      <td>January</td>\n",
       "      <td>1</td>\n",
       "      <td>Sunday</td>\n",
       "      <td>11</td>\n",
       "      <td>AM</td>\n",
       "    </tr>\n",
       "  </tbody>\n",
       "</table>\n",
       "</div>"
      ],
      "text/plain": [
       "   order_details_id  order_id order_date   order_time  item_id  \\\n",
       "0                 1         1 2023-01-01  11:38:36 AM    109.0   \n",
       "1                 2         2 2023-01-01  11:57:40 AM    108.0   \n",
       "2                 3         2 2023-01-01  11:57:40 AM    124.0   \n",
       "3                 4         2 2023-01-01  11:57:40 AM    117.0   \n",
       "4                 5         2 2023-01-01  11:57:40 AM    129.0   \n",
       "\n",
       "            date_time  year  month month_name  day day_name  hour time_period  \n",
       "0 2023-01-01 11:38:36  2023      1    January    1   Sunday    11          AM  \n",
       "1 2023-01-01 11:57:40  2023      1    January    1   Sunday    11          AM  \n",
       "2 2023-01-01 11:57:40  2023      1    January    1   Sunday    11          AM  \n",
       "3 2023-01-01 11:57:40  2023      1    January    1   Sunday    11          AM  \n",
       "4 2023-01-01 11:57:40  2023      1    January    1   Sunday    11          AM  "
      ]
     },
     "execution_count": 38,
     "metadata": {},
     "output_type": "execute_result"
    }
   ],
   "source": [
    "#display the head\n",
    "orders_copy.head()"
   ]
  },
  {
   "cell_type": "code",
   "execution_count": 39,
   "id": "41ed1418",
   "metadata": {},
   "outputs": [
    {
     "data": {
      "text/plain": [
       "array(['January', 'February', 'March'], dtype=object)"
      ]
     },
     "execution_count": 39,
     "metadata": {},
     "output_type": "execute_result"
    }
   ],
   "source": [
    "#checking unique months\n",
    "orders_copy['month_name'].unique()"
   ]
  },
  {
   "cell_type": "code",
   "execution_count": 41,
   "id": "bb5e751f",
   "metadata": {},
   "outputs": [
    {
     "data": {
      "text/plain": [
       "array(['Sunday', 'Monday', 'Tuesday', 'Wednesday', 'Thursday', 'Friday',\n",
       "       'Saturday'], dtype=object)"
      ]
     },
     "execution_count": 41,
     "metadata": {},
     "output_type": "execute_result"
    }
   ],
   "source": [
    "#checking for unique days\n",
    "orders_copy['day_name'].unique()"
   ]
  },
  {
   "cell_type": "code",
   "execution_count": 42,
   "id": "bb210470",
   "metadata": {},
   "outputs": [
    {
     "data": {
      "text/plain": [
       "array([2023], dtype=int64)"
      ]
     },
     "execution_count": 42,
     "metadata": {},
     "output_type": "execute_result"
    }
   ],
   "source": [
    "#checking for unique years\n",
    "orders_copy['year'].unique()"
   ]
  },
  {
   "cell_type": "code",
   "execution_count": 43,
   "id": "c2ebb82c",
   "metadata": {},
   "outputs": [],
   "source": [
    "#dropping unneeded columns\n",
    "orders_copy.drop(['order_time', 'year'], inplace=True, axis=1)"
   ]
  },
  {
   "cell_type": "code",
   "execution_count": 44,
   "id": "7196d80d",
   "metadata": {},
   "outputs": [
    {
     "data": {
      "text/html": [
       "<div>\n",
       "<style scoped>\n",
       "    .dataframe tbody tr th:only-of-type {\n",
       "        vertical-align: middle;\n",
       "    }\n",
       "\n",
       "    .dataframe tbody tr th {\n",
       "        vertical-align: top;\n",
       "    }\n",
       "\n",
       "    .dataframe thead th {\n",
       "        text-align: right;\n",
       "    }\n",
       "</style>\n",
       "<table border=\"1\" class=\"dataframe\">\n",
       "  <thead>\n",
       "    <tr style=\"text-align: right;\">\n",
       "      <th></th>\n",
       "      <th>order_details_id</th>\n",
       "      <th>order_id</th>\n",
       "      <th>order_date</th>\n",
       "      <th>item_id</th>\n",
       "      <th>date_time</th>\n",
       "      <th>month</th>\n",
       "      <th>month_name</th>\n",
       "      <th>day</th>\n",
       "      <th>day_name</th>\n",
       "      <th>hour</th>\n",
       "      <th>time_period</th>\n",
       "    </tr>\n",
       "  </thead>\n",
       "  <tbody>\n",
       "    <tr>\n",
       "      <th>0</th>\n",
       "      <td>1</td>\n",
       "      <td>1</td>\n",
       "      <td>2023-01-01</td>\n",
       "      <td>109.0</td>\n",
       "      <td>2023-01-01 11:38:36</td>\n",
       "      <td>1</td>\n",
       "      <td>January</td>\n",
       "      <td>1</td>\n",
       "      <td>Sunday</td>\n",
       "      <td>11</td>\n",
       "      <td>AM</td>\n",
       "    </tr>\n",
       "    <tr>\n",
       "      <th>1</th>\n",
       "      <td>2</td>\n",
       "      <td>2</td>\n",
       "      <td>2023-01-01</td>\n",
       "      <td>108.0</td>\n",
       "      <td>2023-01-01 11:57:40</td>\n",
       "      <td>1</td>\n",
       "      <td>January</td>\n",
       "      <td>1</td>\n",
       "      <td>Sunday</td>\n",
       "      <td>11</td>\n",
       "      <td>AM</td>\n",
       "    </tr>\n",
       "    <tr>\n",
       "      <th>2</th>\n",
       "      <td>3</td>\n",
       "      <td>2</td>\n",
       "      <td>2023-01-01</td>\n",
       "      <td>124.0</td>\n",
       "      <td>2023-01-01 11:57:40</td>\n",
       "      <td>1</td>\n",
       "      <td>January</td>\n",
       "      <td>1</td>\n",
       "      <td>Sunday</td>\n",
       "      <td>11</td>\n",
       "      <td>AM</td>\n",
       "    </tr>\n",
       "    <tr>\n",
       "      <th>3</th>\n",
       "      <td>4</td>\n",
       "      <td>2</td>\n",
       "      <td>2023-01-01</td>\n",
       "      <td>117.0</td>\n",
       "      <td>2023-01-01 11:57:40</td>\n",
       "      <td>1</td>\n",
       "      <td>January</td>\n",
       "      <td>1</td>\n",
       "      <td>Sunday</td>\n",
       "      <td>11</td>\n",
       "      <td>AM</td>\n",
       "    </tr>\n",
       "    <tr>\n",
       "      <th>4</th>\n",
       "      <td>5</td>\n",
       "      <td>2</td>\n",
       "      <td>2023-01-01</td>\n",
       "      <td>129.0</td>\n",
       "      <td>2023-01-01 11:57:40</td>\n",
       "      <td>1</td>\n",
       "      <td>January</td>\n",
       "      <td>1</td>\n",
       "      <td>Sunday</td>\n",
       "      <td>11</td>\n",
       "      <td>AM</td>\n",
       "    </tr>\n",
       "  </tbody>\n",
       "</table>\n",
       "</div>"
      ],
      "text/plain": [
       "   order_details_id  order_id order_date  item_id           date_time  month  \\\n",
       "0                 1         1 2023-01-01    109.0 2023-01-01 11:38:36      1   \n",
       "1                 2         2 2023-01-01    108.0 2023-01-01 11:57:40      1   \n",
       "2                 3         2 2023-01-01    124.0 2023-01-01 11:57:40      1   \n",
       "3                 4         2 2023-01-01    117.0 2023-01-01 11:57:40      1   \n",
       "4                 5         2 2023-01-01    129.0 2023-01-01 11:57:40      1   \n",
       "\n",
       "  month_name  day day_name  hour time_period  \n",
       "0    January    1   Sunday    11          AM  \n",
       "1    January    1   Sunday    11          AM  \n",
       "2    January    1   Sunday    11          AM  \n",
       "3    January    1   Sunday    11          AM  \n",
       "4    January    1   Sunday    11          AM  "
      ]
     },
     "execution_count": 44,
     "metadata": {},
     "output_type": "execute_result"
    }
   ],
   "source": [
    "orders_copy.head()"
   ]
  },
  {
   "cell_type": "markdown",
   "id": "a00b97fa",
   "metadata": {},
   "source": [
    "### Data Wrangling (Menu's Table)"
   ]
  },
  {
   "cell_type": "code",
   "execution_count": 45,
   "id": "f05d7908",
   "metadata": {},
   "outputs": [
    {
     "data": {
      "text/plain": [
       "(32, 4)"
      ]
     },
     "execution_count": 45,
     "metadata": {},
     "output_type": "execute_result"
    }
   ],
   "source": [
    "#understanding the shape\n",
    "menu.shape"
   ]
  },
  {
   "cell_type": "markdown",
   "id": "4497f7aa",
   "metadata": {},
   "source": [
    "- There are 32 records in the menu table"
   ]
  },
  {
   "cell_type": "code",
   "execution_count": 46,
   "id": "a328eb49",
   "metadata": {},
   "outputs": [
    {
     "data": {
      "text/plain": [
       "menu_item_id    0\n",
       "item_name       0\n",
       "category        0\n",
       "price           0\n",
       "dtype: int64"
      ]
     },
     "execution_count": 46,
     "metadata": {},
     "output_type": "execute_result"
    }
   ],
   "source": [
    "#checking for missing values\n",
    "menu.isna().sum()"
   ]
  },
  {
   "cell_type": "markdown",
   "id": "c62bfd9b",
   "metadata": {},
   "source": [
    "- There are no missing values"
   ]
  },
  {
   "cell_type": "code",
   "execution_count": 47,
   "id": "36757aed",
   "metadata": {},
   "outputs": [
    {
     "data": {
      "text/plain": [
       "0"
      ]
     },
     "execution_count": 47,
     "metadata": {},
     "output_type": "execute_result"
    }
   ],
   "source": [
    "#checking for duplicates\n",
    "menu.duplicated().sum()"
   ]
  },
  {
   "cell_type": "code",
   "execution_count": 48,
   "id": "b52ffcbc",
   "metadata": {},
   "outputs": [
    {
     "data": {
      "text/plain": [
       "menu_item_id      int64\n",
       "item_name        object\n",
       "category         object\n",
       "price           float64\n",
       "dtype: object"
      ]
     },
     "execution_count": 48,
     "metadata": {},
     "output_type": "execute_result"
    }
   ],
   "source": [
    "#checking the datatype\n",
    "menu.dtypes"
   ]
  },
  {
   "cell_type": "code",
   "execution_count": 49,
   "id": "ae81992f",
   "metadata": {},
   "outputs": [
    {
     "data": {
      "text/plain": [
       "4"
      ]
     },
     "execution_count": 49,
     "metadata": {},
     "output_type": "execute_result"
    }
   ],
   "source": [
    "#checking for number of categories\n",
    "menu['category'].nunique()"
   ]
  },
  {
   "cell_type": "markdown",
   "id": "a14c4695",
   "metadata": {},
   "source": [
    "- There are four categories of food sold"
   ]
  },
  {
   "cell_type": "code",
   "execution_count": 50,
   "id": "b4242aa6",
   "metadata": {},
   "outputs": [
    {
     "data": {
      "text/plain": [
       "array(['American', 'Asian', 'Mexican', 'Italian'], dtype=object)"
      ]
     },
     "execution_count": 50,
     "metadata": {},
     "output_type": "execute_result"
    }
   ],
   "source": [
    "#checking for unique categories\n",
    "menu['category'].unique()"
   ]
  },
  {
   "cell_type": "code",
   "execution_count": 51,
   "id": "ab2a49a5",
   "metadata": {},
   "outputs": [
    {
     "data": {
      "text/plain": [
       "32"
      ]
     },
     "execution_count": 51,
     "metadata": {},
     "output_type": "execute_result"
    }
   ],
   "source": [
    "#checking for number of items sold\n",
    "menu['item_name'].nunique()"
   ]
  },
  {
   "cell_type": "markdown",
   "id": "d56d694e",
   "metadata": {},
   "source": [
    "- There are 32 unique items sold"
   ]
  },
  {
   "cell_type": "code",
   "execution_count": 52,
   "id": "d74d26c0",
   "metadata": {},
   "outputs": [
    {
     "data": {
      "text/plain": [
       "array(['Hamburger', 'Cheeseburger', 'Hot Dog', 'Veggie Burger',\n",
       "       'Mac & Cheese', 'French Fries', 'Orange Chicken', 'Tofu Pad Thai',\n",
       "       'Korean Beef Bowl', 'Pork Ramen', 'California Roll', 'Salmon Roll',\n",
       "       'Edamame', 'Potstickers', 'Chicken Tacos', 'Steak Tacos',\n",
       "       'Chicken Burrito', 'Steak Burrito', 'Chicken Torta', 'Steak Torta',\n",
       "       'Cheese Quesadillas', 'Chips & Salsa', 'Chips & Guacamole',\n",
       "       'Spaghetti', 'Spaghetti & Meatballs', 'Fettuccine Alfredo',\n",
       "       'Meat Lasagna', 'Cheese Lasagna', 'Mushroom Ravioli',\n",
       "       'Shrimp Scampi', 'Chicken Parmesan', 'Eggplant Parmesan'],\n",
       "      dtype=object)"
      ]
     },
     "execution_count": 52,
     "metadata": {},
     "output_type": "execute_result"
    }
   ],
   "source": [
    "menu['item_name'].unique()"
   ]
  },
  {
   "cell_type": "code",
   "execution_count": 53,
   "id": "8c0ae885",
   "metadata": {},
   "outputs": [],
   "source": [
    "#renaming the menu_item_id column to item_id\n",
    "menu.rename(columns={\n",
    "    'menu_item_id': 'item_id'\n",
    "}, inplace=True)"
   ]
  },
  {
   "cell_type": "markdown",
   "id": "e22fd207",
   "metadata": {},
   "source": [
    "### Merging the tables"
   ]
  },
  {
   "cell_type": "code",
   "execution_count": 54,
   "id": "7ecb38b1",
   "metadata": {},
   "outputs": [],
   "source": [
    "## Merging the two tables\n",
    "df = orders_copy.merge(menu, on='item_id', how='left')"
   ]
  },
  {
   "cell_type": "code",
   "execution_count": 55,
   "id": "6bea3120",
   "metadata": {},
   "outputs": [
    {
     "data": {
      "text/html": [
       "<div>\n",
       "<style scoped>\n",
       "    .dataframe tbody tr th:only-of-type {\n",
       "        vertical-align: middle;\n",
       "    }\n",
       "\n",
       "    .dataframe tbody tr th {\n",
       "        vertical-align: top;\n",
       "    }\n",
       "\n",
       "    .dataframe thead th {\n",
       "        text-align: right;\n",
       "    }\n",
       "</style>\n",
       "<table border=\"1\" class=\"dataframe\">\n",
       "  <thead>\n",
       "    <tr style=\"text-align: right;\">\n",
       "      <th></th>\n",
       "      <th>order_details_id</th>\n",
       "      <th>order_id</th>\n",
       "      <th>order_date</th>\n",
       "      <th>item_id</th>\n",
       "      <th>date_time</th>\n",
       "      <th>month</th>\n",
       "      <th>month_name</th>\n",
       "      <th>day</th>\n",
       "      <th>day_name</th>\n",
       "      <th>hour</th>\n",
       "      <th>time_period</th>\n",
       "      <th>item_name</th>\n",
       "      <th>category</th>\n",
       "      <th>price</th>\n",
       "    </tr>\n",
       "  </thead>\n",
       "  <tbody>\n",
       "    <tr>\n",
       "      <th>0</th>\n",
       "      <td>1</td>\n",
       "      <td>1</td>\n",
       "      <td>2023-01-01</td>\n",
       "      <td>109.0</td>\n",
       "      <td>2023-01-01 11:38:36</td>\n",
       "      <td>1</td>\n",
       "      <td>January</td>\n",
       "      <td>1</td>\n",
       "      <td>Sunday</td>\n",
       "      <td>11</td>\n",
       "      <td>AM</td>\n",
       "      <td>Korean Beef Bowl</td>\n",
       "      <td>Asian</td>\n",
       "      <td>17.95</td>\n",
       "    </tr>\n",
       "    <tr>\n",
       "      <th>1</th>\n",
       "      <td>2</td>\n",
       "      <td>2</td>\n",
       "      <td>2023-01-01</td>\n",
       "      <td>108.0</td>\n",
       "      <td>2023-01-01 11:57:40</td>\n",
       "      <td>1</td>\n",
       "      <td>January</td>\n",
       "      <td>1</td>\n",
       "      <td>Sunday</td>\n",
       "      <td>11</td>\n",
       "      <td>AM</td>\n",
       "      <td>Tofu Pad Thai</td>\n",
       "      <td>Asian</td>\n",
       "      <td>14.50</td>\n",
       "    </tr>\n",
       "    <tr>\n",
       "      <th>2</th>\n",
       "      <td>3</td>\n",
       "      <td>2</td>\n",
       "      <td>2023-01-01</td>\n",
       "      <td>124.0</td>\n",
       "      <td>2023-01-01 11:57:40</td>\n",
       "      <td>1</td>\n",
       "      <td>January</td>\n",
       "      <td>1</td>\n",
       "      <td>Sunday</td>\n",
       "      <td>11</td>\n",
       "      <td>AM</td>\n",
       "      <td>Spaghetti</td>\n",
       "      <td>Italian</td>\n",
       "      <td>14.50</td>\n",
       "    </tr>\n",
       "    <tr>\n",
       "      <th>3</th>\n",
       "      <td>4</td>\n",
       "      <td>2</td>\n",
       "      <td>2023-01-01</td>\n",
       "      <td>117.0</td>\n",
       "      <td>2023-01-01 11:57:40</td>\n",
       "      <td>1</td>\n",
       "      <td>January</td>\n",
       "      <td>1</td>\n",
       "      <td>Sunday</td>\n",
       "      <td>11</td>\n",
       "      <td>AM</td>\n",
       "      <td>Chicken Burrito</td>\n",
       "      <td>Mexican</td>\n",
       "      <td>12.95</td>\n",
       "    </tr>\n",
       "    <tr>\n",
       "      <th>4</th>\n",
       "      <td>5</td>\n",
       "      <td>2</td>\n",
       "      <td>2023-01-01</td>\n",
       "      <td>129.0</td>\n",
       "      <td>2023-01-01 11:57:40</td>\n",
       "      <td>1</td>\n",
       "      <td>January</td>\n",
       "      <td>1</td>\n",
       "      <td>Sunday</td>\n",
       "      <td>11</td>\n",
       "      <td>AM</td>\n",
       "      <td>Mushroom Ravioli</td>\n",
       "      <td>Italian</td>\n",
       "      <td>15.50</td>\n",
       "    </tr>\n",
       "    <tr>\n",
       "      <th>5</th>\n",
       "      <td>6</td>\n",
       "      <td>2</td>\n",
       "      <td>2023-01-01</td>\n",
       "      <td>106.0</td>\n",
       "      <td>2023-01-01 11:57:40</td>\n",
       "      <td>1</td>\n",
       "      <td>January</td>\n",
       "      <td>1</td>\n",
       "      <td>Sunday</td>\n",
       "      <td>11</td>\n",
       "      <td>AM</td>\n",
       "      <td>French Fries</td>\n",
       "      <td>American</td>\n",
       "      <td>7.00</td>\n",
       "    </tr>\n",
       "    <tr>\n",
       "      <th>6</th>\n",
       "      <td>7</td>\n",
       "      <td>3</td>\n",
       "      <td>2023-01-01</td>\n",
       "      <td>117.0</td>\n",
       "      <td>2023-01-01 12:12:28</td>\n",
       "      <td>1</td>\n",
       "      <td>January</td>\n",
       "      <td>1</td>\n",
       "      <td>Sunday</td>\n",
       "      <td>12</td>\n",
       "      <td>PM</td>\n",
       "      <td>Chicken Burrito</td>\n",
       "      <td>Mexican</td>\n",
       "      <td>12.95</td>\n",
       "    </tr>\n",
       "    <tr>\n",
       "      <th>7</th>\n",
       "      <td>8</td>\n",
       "      <td>3</td>\n",
       "      <td>2023-01-01</td>\n",
       "      <td>119.0</td>\n",
       "      <td>2023-01-01 12:12:28</td>\n",
       "      <td>1</td>\n",
       "      <td>January</td>\n",
       "      <td>1</td>\n",
       "      <td>Sunday</td>\n",
       "      <td>12</td>\n",
       "      <td>PM</td>\n",
       "      <td>Chicken Torta</td>\n",
       "      <td>Mexican</td>\n",
       "      <td>11.95</td>\n",
       "    </tr>\n",
       "    <tr>\n",
       "      <th>8</th>\n",
       "      <td>9</td>\n",
       "      <td>4</td>\n",
       "      <td>2023-01-01</td>\n",
       "      <td>117.0</td>\n",
       "      <td>2023-01-01 12:16:31</td>\n",
       "      <td>1</td>\n",
       "      <td>January</td>\n",
       "      <td>1</td>\n",
       "      <td>Sunday</td>\n",
       "      <td>12</td>\n",
       "      <td>PM</td>\n",
       "      <td>Chicken Burrito</td>\n",
       "      <td>Mexican</td>\n",
       "      <td>12.95</td>\n",
       "    </tr>\n",
       "    <tr>\n",
       "      <th>9</th>\n",
       "      <td>10</td>\n",
       "      <td>5</td>\n",
       "      <td>2023-01-01</td>\n",
       "      <td>117.0</td>\n",
       "      <td>2023-01-01 12:21:30</td>\n",
       "      <td>1</td>\n",
       "      <td>January</td>\n",
       "      <td>1</td>\n",
       "      <td>Sunday</td>\n",
       "      <td>12</td>\n",
       "      <td>PM</td>\n",
       "      <td>Chicken Burrito</td>\n",
       "      <td>Mexican</td>\n",
       "      <td>12.95</td>\n",
       "    </tr>\n",
       "  </tbody>\n",
       "</table>\n",
       "</div>"
      ],
      "text/plain": [
       "   order_details_id  order_id order_date  item_id           date_time  month  \\\n",
       "0                 1         1 2023-01-01    109.0 2023-01-01 11:38:36      1   \n",
       "1                 2         2 2023-01-01    108.0 2023-01-01 11:57:40      1   \n",
       "2                 3         2 2023-01-01    124.0 2023-01-01 11:57:40      1   \n",
       "3                 4         2 2023-01-01    117.0 2023-01-01 11:57:40      1   \n",
       "4                 5         2 2023-01-01    129.0 2023-01-01 11:57:40      1   \n",
       "5                 6         2 2023-01-01    106.0 2023-01-01 11:57:40      1   \n",
       "6                 7         3 2023-01-01    117.0 2023-01-01 12:12:28      1   \n",
       "7                 8         3 2023-01-01    119.0 2023-01-01 12:12:28      1   \n",
       "8                 9         4 2023-01-01    117.0 2023-01-01 12:16:31      1   \n",
       "9                10         5 2023-01-01    117.0 2023-01-01 12:21:30      1   \n",
       "\n",
       "  month_name  day day_name  hour time_period         item_name  category  \\\n",
       "0    January    1   Sunday    11          AM  Korean Beef Bowl     Asian   \n",
       "1    January    1   Sunday    11          AM     Tofu Pad Thai     Asian   \n",
       "2    January    1   Sunday    11          AM         Spaghetti   Italian   \n",
       "3    January    1   Sunday    11          AM   Chicken Burrito   Mexican   \n",
       "4    January    1   Sunday    11          AM  Mushroom Ravioli   Italian   \n",
       "5    January    1   Sunday    11          AM      French Fries  American   \n",
       "6    January    1   Sunday    12          PM   Chicken Burrito   Mexican   \n",
       "7    January    1   Sunday    12          PM     Chicken Torta   Mexican   \n",
       "8    January    1   Sunday    12          PM   Chicken Burrito   Mexican   \n",
       "9    January    1   Sunday    12          PM   Chicken Burrito   Mexican   \n",
       "\n",
       "   price  \n",
       "0  17.95  \n",
       "1  14.50  \n",
       "2  14.50  \n",
       "3  12.95  \n",
       "4  15.50  \n",
       "5   7.00  \n",
       "6  12.95  \n",
       "7  11.95  \n",
       "8  12.95  \n",
       "9  12.95  "
      ]
     },
     "execution_count": 55,
     "metadata": {},
     "output_type": "execute_result"
    }
   ],
   "source": [
    "#display first ten record of the dataframe\n",
    "df.head(10)"
   ]
  },
  {
   "cell_type": "markdown",
   "id": "7be48532",
   "metadata": {},
   "source": [
    "## Data Analysis"
   ]
  },
  {
   "cell_type": "markdown",
   "id": "a7f68b50",
   "metadata": {},
   "source": [
    "### Total Orders"
   ]
  },
  {
   "cell_type": "code",
   "execution_count": 56,
   "id": "e2a48cf9",
   "metadata": {},
   "outputs": [
    {
     "data": {
      "text/plain": [
       "12097"
      ]
     },
     "execution_count": 56,
     "metadata": {},
     "output_type": "execute_result"
    }
   ],
   "source": [
    "# What is the total orders placed in the first Quater\n",
    "total_order = df['order_id'].count()\n",
    "total_order"
   ]
  },
  {
   "cell_type": "markdown",
   "id": "775b0f12",
   "metadata": {},
   "source": [
    "- There are 12,097 orders placed"
   ]
  },
  {
   "cell_type": "markdown",
   "id": "3399d739",
   "metadata": {},
   "source": [
    "### Total Customers"
   ]
  },
  {
   "cell_type": "code",
   "execution_count": 61,
   "id": "5fd7137a",
   "metadata": {},
   "outputs": [
    {
     "data": {
      "text/plain": [
       "5343"
      ]
     },
     "execution_count": 61,
     "metadata": {},
     "output_type": "execute_result"
    }
   ],
   "source": [
    "#what is the total customers the business had in the first quarter\n",
    "total_customers = df['order_id'].nunique()\n",
    "total_customers"
   ]
  },
  {
   "cell_type": "markdown",
   "id": "7fad0f9a",
   "metadata": {},
   "source": [
    "### Total days"
   ]
  },
  {
   "cell_type": "code",
   "execution_count": 59,
   "id": "56746cb2",
   "metadata": {},
   "outputs": [
    {
     "data": {
      "text/plain": [
       "89"
      ]
     },
     "execution_count": 59,
     "metadata": {},
     "output_type": "execute_result"
    }
   ],
   "source": [
    "#total number of days\n",
    "total_days = (df['order_date'].max() - df['order_date'].min()).days\n",
    "total_days"
   ]
  },
  {
   "cell_type": "markdown",
   "id": "6dfb9135",
   "metadata": {},
   "source": [
    "### Average Order Per day "
   ]
  },
  {
   "cell_type": "code",
   "execution_count": 60,
   "id": "3ba328e6",
   "metadata": {},
   "outputs": [
    {
     "data": {
      "text/plain": [
       "136.0"
      ]
     },
     "execution_count": 60,
     "metadata": {},
     "output_type": "execute_result"
    }
   ],
   "source": [
    "#Average Order Per day \n",
    "avg_order_per_day = round(total_order/total_days, 0)\n",
    "avg_order_per_day"
   ]
  },
  {
   "cell_type": "markdown",
   "id": "5cbcb165",
   "metadata": {},
   "source": [
    "- A total of 136 orders were placed every day on average"
   ]
  },
  {
   "cell_type": "markdown",
   "id": "aeb4ceb4",
   "metadata": {},
   "source": [
    "### Total Orders by Month"
   ]
  },
  {
   "cell_type": "code",
   "execution_count": 66,
   "id": "6b9b2602",
   "metadata": {},
   "outputs": [
    {
     "data": {
      "text/html": [
       "<div>\n",
       "<style scoped>\n",
       "    .dataframe tbody tr th:only-of-type {\n",
       "        vertical-align: middle;\n",
       "    }\n",
       "\n",
       "    .dataframe tbody tr th {\n",
       "        vertical-align: top;\n",
       "    }\n",
       "\n",
       "    .dataframe thead th {\n",
       "        text-align: right;\n",
       "    }\n",
       "</style>\n",
       "<table border=\"1\" class=\"dataframe\">\n",
       "  <thead>\n",
       "    <tr style=\"text-align: right;\">\n",
       "      <th></th>\n",
       "      <th>month</th>\n",
       "      <th>month_name</th>\n",
       "      <th>total_orders</th>\n",
       "    </tr>\n",
       "  </thead>\n",
       "  <tbody>\n",
       "    <tr>\n",
       "      <th>0</th>\n",
       "      <td>1</td>\n",
       "      <td>January</td>\n",
       "      <td>4104</td>\n",
       "    </tr>\n",
       "    <tr>\n",
       "      <th>1</th>\n",
       "      <td>2</td>\n",
       "      <td>February</td>\n",
       "      <td>3851</td>\n",
       "    </tr>\n",
       "    <tr>\n",
       "      <th>2</th>\n",
       "      <td>3</td>\n",
       "      <td>March</td>\n",
       "      <td>4142</td>\n",
       "    </tr>\n",
       "  </tbody>\n",
       "</table>\n",
       "</div>"
      ],
      "text/plain": [
       "   month month_name  total_orders\n",
       "0      1    January          4104\n",
       "1      2   February          3851\n",
       "2      3      March          4142"
      ]
     },
     "execution_count": 66,
     "metadata": {},
     "output_type": "execute_result"
    }
   ],
   "source": [
    "#total orders by month\n",
    "month_orders = (df.groupby(['month', 'month_name'], as_index=False)\n",
    "                    .agg(total_orders = ('order_id', 'count'))\n",
    "                    .sort_values('month', ascending=True))\n",
    "month_orders"
   ]
  },
  {
   "cell_type": "code",
   "execution_count": 72,
   "id": "666cf8c9",
   "metadata": {},
   "outputs": [
    {
     "data": {
      "image/png": "[encoded data removed]",
      "text/plain": [
       "<Figure size 600x400 with 1 Axes>"
      ]
     },
     "metadata": {},
     "output_type": "display_data"
    }
   ],
   "source": [
    "#plotting the total orders by month\n",
    "fig, ax = plt.subplots(figsize=[6,4])\n",
    "\n",
    "ax.bar(x=month_orders['month_name'], height=month_orders['total_orders'])\n",
    "\n",
    "sns.despine(left=True)\n",
    "ax.yaxis.set_visible(False)\n",
    "\n",
    "for index, value in enumerate(month_orders['total_orders']):\n",
    "    ax.annotate(value, xy=(index, value+70), va='center', ha='center')\n",
    "plt.show()"
   ]
  },
  {
   "cell_type": "code",
   "execution_count": null,
   "id": "a83da514",
   "metadata": {},
   "outputs": [],
   "source": []
  }
 ],
 "metadata": {
  "kernelspec": {
   "display_name": "Python 3 (ipykernel)",
   "language": "python",
   "name": "python3"
  },
  "language_info": {
   "codemirror_mode": {
    "name": "ipython",
    "version": 3
   },
   "file_extension": ".py",
   "mimetype": "text/x-python",
   "name": "python",
   "nbconvert_exporter": "python",
   "pygments_lexer": "ipython3",
   "version": "3.10.9"
  },
  "varInspector": {
   "cols": {
    "lenName": 16,
    "lenType": 16,
    "lenVar": 40
   },
   "kernels_config": {
    "python": {
     "delete_cmd_postfix": "",
     "delete_cmd_prefix": "del ",
     "library": "var_list.py",
     "varRefreshCmd": "print(var_dic_list())"
    },
    "r": {
     "delete_cmd_postfix": ") ",
     "delete_cmd_prefix": "rm(",
     "library": "var_list.r",
     "varRefreshCmd": "cat(var_dic_list()) "
    }
   },
   "types_to_exclude": [
    "module",
    "function",
    "builtin_function_or_method",
    "instance",
    "_Feature"
   ],
   "window_display": false
  }
 },
 "nbformat": 4,
 "nbformat_minor": 5
}
